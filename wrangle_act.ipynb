{
 "cells": [
  {
   "cell_type": "markdown",
   "metadata": {
    "extensions": {
     "jupyter_dashboards": {
      "version": 1,
      "views": {
       "grid_default": {
        "col": 0,
        "height": 4,
        "hidden": false,
        "row": 0,
        "width": 4
       },
       "report_default": {
        "hidden": false
       }
      }
     }
    }
   },
   "source": [
    "# Project: Wrangling and Analyze Data"
   ]
  },
  {
   "cell_type": "markdown",
   "metadata": {},
   "source": [
    "## Data Gathering\n",
    "In the cell below, gather **all** three pieces of data for this project and load them in the notebook. **Note:** the methods required to gather each data are different.\n",
    "1. Directly download the WeRateDogs Twitter archive data (twitter_archive_enhanced.csv)"
   ]
  },
  {
   "cell_type": "code",
   "execution_count": 1,
   "metadata": {
    "extensions": {
     "jupyter_dashboards": {
      "version": 1,
      "views": {
       "grid_default": {
        "hidden": true
       },
       "report_default": {
        "hidden": true
       }
      }
     }
    }
   },
   "outputs": [
    {
     "data": {
      "text/html": [
       "<div>\n",
       "<style scoped>\n",
       "    .dataframe tbody tr th:only-of-type {\n",
       "        vertical-align: middle;\n",
       "    }\n",
       "\n",
       "    .dataframe tbody tr th {\n",
       "        vertical-align: top;\n",
       "    }\n",
       "\n",
       "    .dataframe thead th {\n",
       "        text-align: right;\n",
       "    }\n",
       "</style>\n",
       "<table border=\"1\" class=\"dataframe\">\n",
       "  <thead>\n",
       "    <tr style=\"text-align: right;\">\n",
       "      <th></th>\n",
       "      <th>tweet_id</th>\n",
       "      <th>in_reply_to_status_id</th>\n",
       "      <th>in_reply_to_user_id</th>\n",
       "      <th>timestamp</th>\n",
       "      <th>source</th>\n",
       "      <th>text</th>\n",
       "      <th>retweeted_status_id</th>\n",
       "      <th>retweeted_status_user_id</th>\n",
       "      <th>retweeted_status_timestamp</th>\n",
       "      <th>expanded_urls</th>\n",
       "      <th>rating_numerator</th>\n",
       "      <th>rating_denominator</th>\n",
       "      <th>name</th>\n",
       "      <th>doggo</th>\n",
       "      <th>floofer</th>\n",
       "      <th>pupper</th>\n",
       "      <th>puppo</th>\n",
       "    </tr>\n",
       "  </thead>\n",
       "  <tbody>\n",
       "    <tr>\n",
       "      <th>1865</th>\n",
       "      <td>675354435921575936</td>\n",
       "      <td>NaN</td>\n",
       "      <td>NaN</td>\n",
       "      <td>2015-12-11 16:40:19 +0000</td>\n",
       "      <td>&lt;a href=\"http://twitter.com\" rel=\"nofollow\"&gt;Tw...</td>\n",
       "      <td>Everyone needs to watch this. 13/10 https://t....</td>\n",
       "      <td>NaN</td>\n",
       "      <td>NaN</td>\n",
       "      <td>NaN</td>\n",
       "      <td>https://twitter.com/dog_rates/status/675354435...</td>\n",
       "      <td>13</td>\n",
       "      <td>10</td>\n",
       "      <td>None</td>\n",
       "      <td>None</td>\n",
       "      <td>None</td>\n",
       "      <td>None</td>\n",
       "      <td>None</td>\n",
       "    </tr>\n",
       "    <tr>\n",
       "      <th>807</th>\n",
       "      <td>771908950375665664</td>\n",
       "      <td>NaN</td>\n",
       "      <td>NaN</td>\n",
       "      <td>2016-09-03 03:13:29 +0000</td>\n",
       "      <td>&lt;a href=\"http://twitter.com/download/iphone\" r...</td>\n",
       "      <td>Doggo will persevere. 13/10\\nhttps://t.co/yOVz...</td>\n",
       "      <td>NaN</td>\n",
       "      <td>NaN</td>\n",
       "      <td>NaN</td>\n",
       "      <td>https://twitter.com/yahoonews/status/771905568...</td>\n",
       "      <td>13</td>\n",
       "      <td>10</td>\n",
       "      <td>None</td>\n",
       "      <td>doggo</td>\n",
       "      <td>None</td>\n",
       "      <td>None</td>\n",
       "      <td>None</td>\n",
       "    </tr>\n",
       "    <tr>\n",
       "      <th>2206</th>\n",
       "      <td>668631377374486528</td>\n",
       "      <td>NaN</td>\n",
       "      <td>NaN</td>\n",
       "      <td>2015-11-23 03:25:17 +0000</td>\n",
       "      <td>&lt;a href=\"http://twitter.com/download/iphone\" r...</td>\n",
       "      <td>Meet Zeek. He is a grey Cumulonimbus. Zeek is ...</td>\n",
       "      <td>NaN</td>\n",
       "      <td>NaN</td>\n",
       "      <td>NaN</td>\n",
       "      <td>https://twitter.com/dog_rates/status/668631377...</td>\n",
       "      <td>5</td>\n",
       "      <td>10</td>\n",
       "      <td>Zeek</td>\n",
       "      <td>None</td>\n",
       "      <td>None</td>\n",
       "      <td>None</td>\n",
       "      <td>None</td>\n",
       "    </tr>\n",
       "    <tr>\n",
       "      <th>1620</th>\n",
       "      <td>684940049151070208</td>\n",
       "      <td>NaN</td>\n",
       "      <td>NaN</td>\n",
       "      <td>2016-01-07 03:30:07 +0000</td>\n",
       "      <td>&lt;a href=\"http://twitter.com/download/iphone\" r...</td>\n",
       "      <td>This is Oreo. She's a photographer and a model...</td>\n",
       "      <td>NaN</td>\n",
       "      <td>NaN</td>\n",
       "      <td>NaN</td>\n",
       "      <td>https://twitter.com/dog_rates/status/684940049...</td>\n",
       "      <td>12</td>\n",
       "      <td>10</td>\n",
       "      <td>Oreo</td>\n",
       "      <td>None</td>\n",
       "      <td>None</td>\n",
       "      <td>None</td>\n",
       "      <td>None</td>\n",
       "    </tr>\n",
       "    <tr>\n",
       "      <th>473</th>\n",
       "      <td>816336735214911488</td>\n",
       "      <td>NaN</td>\n",
       "      <td>NaN</td>\n",
       "      <td>2017-01-03 17:33:39 +0000</td>\n",
       "      <td>&lt;a href=\"http://twitter.com/download/iphone\" r...</td>\n",
       "      <td>This is Dudley. He found a flower and now he's...</td>\n",
       "      <td>NaN</td>\n",
       "      <td>NaN</td>\n",
       "      <td>NaN</td>\n",
       "      <td>https://twitter.com/dog_rates/status/816336735...</td>\n",
       "      <td>11</td>\n",
       "      <td>10</td>\n",
       "      <td>Dudley</td>\n",
       "      <td>None</td>\n",
       "      <td>None</td>\n",
       "      <td>None</td>\n",
       "      <td>None</td>\n",
       "    </tr>\n",
       "    <tr>\n",
       "      <th>1945</th>\n",
       "      <td>673707060090052608</td>\n",
       "      <td>NaN</td>\n",
       "      <td>NaN</td>\n",
       "      <td>2015-12-07 03:34:14 +0000</td>\n",
       "      <td>&lt;a href=\"http://twitter.com/download/iphone\" r...</td>\n",
       "      <td>This is Raymond. He's absolutely terrified of ...</td>\n",
       "      <td>NaN</td>\n",
       "      <td>NaN</td>\n",
       "      <td>NaN</td>\n",
       "      <td>https://twitter.com/dog_rates/status/673707060...</td>\n",
       "      <td>10</td>\n",
       "      <td>10</td>\n",
       "      <td>Raymond</td>\n",
       "      <td>None</td>\n",
       "      <td>None</td>\n",
       "      <td>pupper</td>\n",
       "      <td>None</td>\n",
       "    </tr>\n",
       "    <tr>\n",
       "      <th>1264</th>\n",
       "      <td>709918798883774466</td>\n",
       "      <td>NaN</td>\n",
       "      <td>NaN</td>\n",
       "      <td>2016-03-16 01:46:45 +0000</td>\n",
       "      <td>&lt;a href=\"http://twitter.com/download/iphone\" r...</td>\n",
       "      <td>Meet Watson. He's a Suzuki Tickleboop. Leader ...</td>\n",
       "      <td>NaN</td>\n",
       "      <td>NaN</td>\n",
       "      <td>NaN</td>\n",
       "      <td>https://twitter.com/dog_rates/status/709918798...</td>\n",
       "      <td>12</td>\n",
       "      <td>10</td>\n",
       "      <td>Watson</td>\n",
       "      <td>None</td>\n",
       "      <td>None</td>\n",
       "      <td>None</td>\n",
       "      <td>None</td>\n",
       "    </tr>\n",
       "    <tr>\n",
       "      <th>688</th>\n",
       "      <td>787810552592695296</td>\n",
       "      <td>NaN</td>\n",
       "      <td>NaN</td>\n",
       "      <td>2016-10-17 00:20:47 +0000</td>\n",
       "      <td>&lt;a href=\"http://twitter.com/download/iphone\" r...</td>\n",
       "      <td>This is Frank. He wears sunglasses and walks h...</td>\n",
       "      <td>NaN</td>\n",
       "      <td>NaN</td>\n",
       "      <td>NaN</td>\n",
       "      <td>https://twitter.com/dog_rates/status/787810552...</td>\n",
       "      <td>11</td>\n",
       "      <td>10</td>\n",
       "      <td>Frank</td>\n",
       "      <td>None</td>\n",
       "      <td>None</td>\n",
       "      <td>None</td>\n",
       "      <td>None</td>\n",
       "    </tr>\n",
       "    <tr>\n",
       "      <th>437</th>\n",
       "      <td>820078625395449857</td>\n",
       "      <td>NaN</td>\n",
       "      <td>NaN</td>\n",
       "      <td>2017-01-14 01:22:35 +0000</td>\n",
       "      <td>&lt;a href=\"http://twitter.com/download/iphone\" r...</td>\n",
       "      <td>I've never wanted to go to a camp more in my e...</td>\n",
       "      <td>NaN</td>\n",
       "      <td>NaN</td>\n",
       "      <td>NaN</td>\n",
       "      <td>https://twitter.com/dog_rates/status/820078625...</td>\n",
       "      <td>12</td>\n",
       "      <td>10</td>\n",
       "      <td>None</td>\n",
       "      <td>None</td>\n",
       "      <td>None</td>\n",
       "      <td>None</td>\n",
       "      <td>None</td>\n",
       "    </tr>\n",
       "    <tr>\n",
       "      <th>365</th>\n",
       "      <td>829011960981237760</td>\n",
       "      <td>NaN</td>\n",
       "      <td>NaN</td>\n",
       "      <td>2017-02-07 17:00:28 +0000</td>\n",
       "      <td>&lt;a href=\"http://twitter.com/download/iphone\" r...</td>\n",
       "      <td>This is Dexter. He was reunited with his mom y...</td>\n",
       "      <td>NaN</td>\n",
       "      <td>NaN</td>\n",
       "      <td>NaN</td>\n",
       "      <td>https://twitter.com/dog_rates/status/829011960...</td>\n",
       "      <td>13</td>\n",
       "      <td>10</td>\n",
       "      <td>Dexter</td>\n",
       "      <td>None</td>\n",
       "      <td>None</td>\n",
       "      <td>None</td>\n",
       "      <td>None</td>\n",
       "    </tr>\n",
       "  </tbody>\n",
       "</table>\n",
       "</div>"
      ],
      "text/plain": [
       "                tweet_id  in_reply_to_status_id  in_reply_to_user_id  \\\n",
       "1865  675354435921575936                    NaN                  NaN   \n",
       "807   771908950375665664                    NaN                  NaN   \n",
       "2206  668631377374486528                    NaN                  NaN   \n",
       "1620  684940049151070208                    NaN                  NaN   \n",
       "473   816336735214911488                    NaN                  NaN   \n",
       "1945  673707060090052608                    NaN                  NaN   \n",
       "1264  709918798883774466                    NaN                  NaN   \n",
       "688   787810552592695296                    NaN                  NaN   \n",
       "437   820078625395449857                    NaN                  NaN   \n",
       "365   829011960981237760                    NaN                  NaN   \n",
       "\n",
       "                      timestamp  \\\n",
       "1865  2015-12-11 16:40:19 +0000   \n",
       "807   2016-09-03 03:13:29 +0000   \n",
       "2206  2015-11-23 03:25:17 +0000   \n",
       "1620  2016-01-07 03:30:07 +0000   \n",
       "473   2017-01-03 17:33:39 +0000   \n",
       "1945  2015-12-07 03:34:14 +0000   \n",
       "1264  2016-03-16 01:46:45 +0000   \n",
       "688   2016-10-17 00:20:47 +0000   \n",
       "437   2017-01-14 01:22:35 +0000   \n",
       "365   2017-02-07 17:00:28 +0000   \n",
       "\n",
       "                                                 source  \\\n",
       "1865  <a href=\"http://twitter.com\" rel=\"nofollow\">Tw...   \n",
       "807   <a href=\"http://twitter.com/download/iphone\" r...   \n",
       "2206  <a href=\"http://twitter.com/download/iphone\" r...   \n",
       "1620  <a href=\"http://twitter.com/download/iphone\" r...   \n",
       "473   <a href=\"http://twitter.com/download/iphone\" r...   \n",
       "1945  <a href=\"http://twitter.com/download/iphone\" r...   \n",
       "1264  <a href=\"http://twitter.com/download/iphone\" r...   \n",
       "688   <a href=\"http://twitter.com/download/iphone\" r...   \n",
       "437   <a href=\"http://twitter.com/download/iphone\" r...   \n",
       "365   <a href=\"http://twitter.com/download/iphone\" r...   \n",
       "\n",
       "                                                   text  retweeted_status_id  \\\n",
       "1865  Everyone needs to watch this. 13/10 https://t....                  NaN   \n",
       "807   Doggo will persevere. 13/10\\nhttps://t.co/yOVz...                  NaN   \n",
       "2206  Meet Zeek. He is a grey Cumulonimbus. Zeek is ...                  NaN   \n",
       "1620  This is Oreo. She's a photographer and a model...                  NaN   \n",
       "473   This is Dudley. He found a flower and now he's...                  NaN   \n",
       "1945  This is Raymond. He's absolutely terrified of ...                  NaN   \n",
       "1264  Meet Watson. He's a Suzuki Tickleboop. Leader ...                  NaN   \n",
       "688   This is Frank. He wears sunglasses and walks h...                  NaN   \n",
       "437   I've never wanted to go to a camp more in my e...                  NaN   \n",
       "365   This is Dexter. He was reunited with his mom y...                  NaN   \n",
       "\n",
       "      retweeted_status_user_id retweeted_status_timestamp  \\\n",
       "1865                       NaN                        NaN   \n",
       "807                        NaN                        NaN   \n",
       "2206                       NaN                        NaN   \n",
       "1620                       NaN                        NaN   \n",
       "473                        NaN                        NaN   \n",
       "1945                       NaN                        NaN   \n",
       "1264                       NaN                        NaN   \n",
       "688                        NaN                        NaN   \n",
       "437                        NaN                        NaN   \n",
       "365                        NaN                        NaN   \n",
       "\n",
       "                                          expanded_urls  rating_numerator  \\\n",
       "1865  https://twitter.com/dog_rates/status/675354435...                13   \n",
       "807   https://twitter.com/yahoonews/status/771905568...                13   \n",
       "2206  https://twitter.com/dog_rates/status/668631377...                 5   \n",
       "1620  https://twitter.com/dog_rates/status/684940049...                12   \n",
       "473   https://twitter.com/dog_rates/status/816336735...                11   \n",
       "1945  https://twitter.com/dog_rates/status/673707060...                10   \n",
       "1264  https://twitter.com/dog_rates/status/709918798...                12   \n",
       "688   https://twitter.com/dog_rates/status/787810552...                11   \n",
       "437   https://twitter.com/dog_rates/status/820078625...                12   \n",
       "365   https://twitter.com/dog_rates/status/829011960...                13   \n",
       "\n",
       "      rating_denominator     name  doggo floofer  pupper puppo  \n",
       "1865                  10     None   None    None    None  None  \n",
       "807                   10     None  doggo    None    None  None  \n",
       "2206                  10     Zeek   None    None    None  None  \n",
       "1620                  10     Oreo   None    None    None  None  \n",
       "473                   10   Dudley   None    None    None  None  \n",
       "1945                  10  Raymond   None    None  pupper  None  \n",
       "1264                  10   Watson   None    None    None  None  \n",
       "688                   10    Frank   None    None    None  None  \n",
       "437                   10     None   None    None    None  None  \n",
       "365                   10   Dexter   None    None    None  None  "
      ]
     },
     "execution_count": 1,
     "metadata": {},
     "output_type": "execute_result"
    }
   ],
   "source": [
    "# Using pandas to read the csv file\n",
    "\n",
    "import pandas as pd\n",
    "tweets_data = pd.read_csv(\"twitter_archive_enhanced.csv\")\n",
    "tweets_data.sample(10)"
   ]
  },
  {
   "cell_type": "markdown",
   "metadata": {},
   "source": [
    "2. Use the Requests library to download the tweet image prediction (image_predictions.tsv)"
   ]
  },
  {
   "cell_type": "code",
   "execution_count": 2,
   "metadata": {},
   "outputs": [],
   "source": [
    "# Using requests library fetch the tsv file at the mentioned url and save it as image_predictions.tsv\n",
    "\n",
    "import requests\n",
    "\n",
    "res = requests.get(\"https://d17h27t6h515a5.cloudfront.net/topher/2017/August/599fd2ad_image-predictions/image-predictions.tsv\")\n",
    "\n",
    "with open(\"image_predictions.tsv\", mode = 'wb') as file:\n",
    "    file.write(res.content)\n",
    "    \n",
    "img_predictions = pd.read_csv(\"image_predictions.tsv\", sep='\\t')\n"
   ]
  },
  {
   "cell_type": "markdown",
   "metadata": {},
   "source": [
    "3. Use the Tweepy library to query additional data via the Twitter API (tweet_json.txt)"
   ]
  },
  {
   "cell_type": "code",
   "execution_count": 3,
   "metadata": {},
   "outputs": [],
   "source": [
    "# import tweepy\n",
    "# from tweepy import OAuthHandler\n",
    "# import json\n",
    "# from timeit import default_timer as timer\n",
    "\n",
    "# # Query Twitter API for each tweet in the Twitter archive and save JSON in a text file\n",
    "# # These are hidden to comply with Twitter's API terms and conditions\n",
    "# consumer_key = 'HIDDEN'\n",
    "# consumer_secret = 'HIDDEN'\n",
    "# access_token = 'HIDDEN'\n",
    "# access_secret = 'HIDDEN'\n",
    "\n",
    "# auth = OAuthHandler(consumer_key, consumer_secret)\n",
    "# auth.set_access_token(access_token, access_secret)\n",
    "\n",
    "# api = tweepy.API(auth, wait_on_rate_limit=True)\n",
    "\n",
    "# tweet_ids = df_1.tweet_id.values\n",
    "# len(tweet_ids)\n",
    "\n",
    "# # Query Twitter's API for JSON data for each tweet ID in the Twitter archive\n",
    "# count = 0\n",
    "# fails_dict = {}\n",
    "# start = timer()\n",
    "# # Save each tweet's returned JSON as a new line in a .txt file\n",
    "# with open('tweet_json.txt', 'w') as outfile:\n",
    "#     # This loop will likely take 20-30 minutes to run because of Twitter's rate limit\n",
    "#     for tweet_id in tweet_ids:\n",
    "#         count += 1\n",
    "#         print(str(count) + \": \" + str(tweet_id))\n",
    "#         try:\n",
    "#             tweet = api.get_status(tweet_id, tweet_mode='extended')\n",
    "#             print(\"Success\")\n",
    "#             json.dump(tweet._json, outfile)\n",
    "#             outfile.write('\\n')\n",
    "#         except tweepy.TweepError as e:\n",
    "#             print(\"Fail\")\n",
    "#             fails_dict[tweet_id] = e\n",
    "#             pass\n",
    "# end = timer()\n",
    "# print(end - start)\n",
    "# print(fails_dict)\n",
    "\n",
    "\n",
    "\n",
    "\n",
    "# api.get_status() etc. are not working in free version of the tweepy hence using the tweets_json.txt file hosted by udacity \n",
    "\n",
    "url = \"https://video.udacity-data.com/topher/2018/November/5be5fb7d_tweet-json/tweet-json.txt\"\n",
    "res = requests.get(url)\n",
    "\n",
    "\n",
    "# Opening and saving the file as tweet_json.txt\n",
    "\n",
    "with open('tweet_json.txt', mode = 'wb') as file:\n",
    "    file.write(res.content)"
   ]
  },
  {
   "cell_type": "code",
   "execution_count": 4,
   "metadata": {},
   "outputs": [
    {
     "data": {
      "text/html": [
       "<div>\n",
       "<style scoped>\n",
       "    .dataframe tbody tr th:only-of-type {\n",
       "        vertical-align: middle;\n",
       "    }\n",
       "\n",
       "    .dataframe tbody tr th {\n",
       "        vertical-align: top;\n",
       "    }\n",
       "\n",
       "    .dataframe thead th {\n",
       "        text-align: right;\n",
       "    }\n",
       "</style>\n",
       "<table border=\"1\" class=\"dataframe\">\n",
       "  <thead>\n",
       "    <tr style=\"text-align: right;\">\n",
       "      <th></th>\n",
       "      <th>tweet_id</th>\n",
       "      <th>retweet_count</th>\n",
       "      <th>favorite_count</th>\n",
       "    </tr>\n",
       "  </thead>\n",
       "  <tbody>\n",
       "    <tr>\n",
       "      <th>1100</th>\n",
       "      <td>735274964362878976</td>\n",
       "      <td>4707</td>\n",
       "      <td>9629</td>\n",
       "    </tr>\n",
       "    <tr>\n",
       "      <th>1160</th>\n",
       "      <td>723688335806480385</td>\n",
       "      <td>3347</td>\n",
       "      <td>8435</td>\n",
       "    </tr>\n",
       "    <tr>\n",
       "      <th>451</th>\n",
       "      <td>818614493328580609</td>\n",
       "      <td>2982</td>\n",
       "      <td>10971</td>\n",
       "    </tr>\n",
       "    <tr>\n",
       "      <th>2333</th>\n",
       "      <td>666287406224695296</td>\n",
       "      <td>71</td>\n",
       "      <td>152</td>\n",
       "    </tr>\n",
       "    <tr>\n",
       "      <th>1112</th>\n",
       "      <td>732732193018155009</td>\n",
       "      <td>599</td>\n",
       "      <td>2671</td>\n",
       "    </tr>\n",
       "    <tr>\n",
       "      <th>1836</th>\n",
       "      <td>675898130735476737</td>\n",
       "      <td>653</td>\n",
       "      <td>1774</td>\n",
       "    </tr>\n",
       "    <tr>\n",
       "      <th>1964</th>\n",
       "      <td>673343217010679808</td>\n",
       "      <td>289</td>\n",
       "      <td>1038</td>\n",
       "    </tr>\n",
       "    <tr>\n",
       "      <th>2026</th>\n",
       "      <td>671866342182637568</td>\n",
       "      <td>548</td>\n",
       "      <td>1191</td>\n",
       "    </tr>\n",
       "    <tr>\n",
       "      <th>203</th>\n",
       "      <td>852936405516943360</td>\n",
       "      <td>2243</td>\n",
       "      <td>0</td>\n",
       "    </tr>\n",
       "    <tr>\n",
       "      <th>1003</th>\n",
       "      <td>747651430853525504</td>\n",
       "      <td>179</td>\n",
       "      <td>1520</td>\n",
       "    </tr>\n",
       "  </tbody>\n",
       "</table>\n",
       "</div>"
      ],
      "text/plain": [
       "                tweet_id  retweet_count  favorite_count\n",
       "1100  735274964362878976           4707            9629\n",
       "1160  723688335806480385           3347            8435\n",
       "451   818614493328580609           2982           10971\n",
       "2333  666287406224695296             71             152\n",
       "1112  732732193018155009            599            2671\n",
       "1836  675898130735476737            653            1774\n",
       "1964  673343217010679808            289            1038\n",
       "2026  671866342182637568            548            1191\n",
       "203   852936405516943360           2243               0\n",
       "1003  747651430853525504            179            1520"
      ]
     },
     "execution_count": 4,
     "metadata": {},
     "output_type": "execute_result"
    }
   ],
   "source": [
    "# Reading the .txt file into a pandas DataFrame\n",
    "\n",
    "import json\n",
    "\n",
    "# Declaring an empty list which will hold all json required fields : tweet_id, retweet_count, favorite_count\n",
    "json_list = []\n",
    "\n",
    "# Reading file line by line and string all jsons in a list called all_jsons\n",
    "with open('tweet_json.txt', 'r') as file:\n",
    "    all_jsons = file.readlines()\n",
    "    \n",
    "    # Iterating through each json and converting it into dictionary format to append it to a new list with only 3 fields\n",
    "    for each_json in all_jsons:\n",
    "        json_dict = json.loads(each_json)\n",
    "        json_list.append({'tweet_id' : json_dict['id'],\n",
    "        'retweet_count' : json_dict['retweet_count'],\n",
    "        'favorite_count' : json_dict['favorite_count']\n",
    "                     })\n",
    "\n",
    "json_list\n",
    "\n",
    "tweets_json = pd.DataFrame(json_list, columns = ['tweet_id', 'retweet_count', 'favorite_count'])\n",
    "tweets_json.sample(10)"
   ]
  },
  {
   "cell_type": "markdown",
   "metadata": {
    "extensions": {
     "jupyter_dashboards": {
      "version": 1,
      "views": {
       "grid_default": {
        "col": 4,
        "height": 4,
        "hidden": false,
        "row": 28,
        "width": 4
       },
       "report_default": {
        "hidden": false
       }
      }
     }
    }
   },
   "source": [
    "## Assessing Data\n",
    "In this section, detect and document at least **eight (8) quality issues and two (2) tidiness issue**. You must use **both** visual assessment\n",
    "programmatic assessement to assess the data.\n",
    "\n",
    "**Note:** pay attention to the following key points when you access the data.\n",
    "\n",
    "* You only want original ratings (no retweets) that have images. Though there are 5000+ tweets in the dataset, not all are dog ratings and some are retweets.\n",
    "* Assessing and cleaning the entire dataset completely would require a lot of time, and is not necessary to practice and demonstrate your skills in data wrangling. Therefore, the requirements of this project are only to assess and clean at least 8 quality issues and at least 2 tidiness issues in this dataset.\n",
    "* The fact that the rating numerators are greater than the denominators does not need to be cleaned. This [unique rating system](http://knowyourmeme.com/memes/theyre-good-dogs-brent) is a big part of the popularity of WeRateDogs.\n",
    "* You do not need to gather the tweets beyond August 1st, 2017. You can, but note that you won't be able to gather the image predictions for these tweets since you don't have access to the algorithm used.\n",
    "\n"
   ]
  },
  {
   "cell_type": "markdown",
   "metadata": {},
   "source": [
    "### Assesing tweets_data dataframe"
   ]
  },
  {
   "cell_type": "code",
   "execution_count": 5,
   "metadata": {},
   "outputs": [
    {
     "name": "stdout",
     "output_type": "stream",
     "text": [
      "<class 'pandas.core.frame.DataFrame'>\n",
      "RangeIndex: 2356 entries, 0 to 2355\n",
      "Data columns (total 17 columns):\n",
      "tweet_id                      2356 non-null int64\n",
      "in_reply_to_status_id         78 non-null float64\n",
      "in_reply_to_user_id           78 non-null float64\n",
      "timestamp                     2356 non-null object\n",
      "source                        2356 non-null object\n",
      "text                          2356 non-null object\n",
      "retweeted_status_id           181 non-null float64\n",
      "retweeted_status_user_id      181 non-null float64\n",
      "retweeted_status_timestamp    181 non-null object\n",
      "expanded_urls                 2297 non-null object\n",
      "rating_numerator              2356 non-null int64\n",
      "rating_denominator            2356 non-null int64\n",
      "name                          2356 non-null object\n",
      "doggo                         2356 non-null object\n",
      "floofer                       2356 non-null object\n",
      "pupper                        2356 non-null object\n",
      "puppo                         2356 non-null object\n",
      "dtypes: float64(4), int64(3), object(10)\n",
      "memory usage: 313.0+ KB\n"
     ]
    }
   ],
   "source": [
    "tweets_data.info()"
   ]
  },
  {
   "cell_type": "code",
   "execution_count": 6,
   "metadata": {},
   "outputs": [
    {
     "data": {
      "text/html": [
       "<div>\n",
       "<style scoped>\n",
       "    .dataframe tbody tr th:only-of-type {\n",
       "        vertical-align: middle;\n",
       "    }\n",
       "\n",
       "    .dataframe tbody tr th {\n",
       "        vertical-align: top;\n",
       "    }\n",
       "\n",
       "    .dataframe thead th {\n",
       "        text-align: right;\n",
       "    }\n",
       "</style>\n",
       "<table border=\"1\" class=\"dataframe\">\n",
       "  <thead>\n",
       "    <tr style=\"text-align: right;\">\n",
       "      <th></th>\n",
       "      <th>tweet_id</th>\n",
       "      <th>in_reply_to_status_id</th>\n",
       "      <th>in_reply_to_user_id</th>\n",
       "      <th>retweeted_status_id</th>\n",
       "      <th>retweeted_status_user_id</th>\n",
       "      <th>rating_numerator</th>\n",
       "      <th>rating_denominator</th>\n",
       "    </tr>\n",
       "  </thead>\n",
       "  <tbody>\n",
       "    <tr>\n",
       "      <th>count</th>\n",
       "      <td>2.356000e+03</td>\n",
       "      <td>7.800000e+01</td>\n",
       "      <td>7.800000e+01</td>\n",
       "      <td>1.810000e+02</td>\n",
       "      <td>1.810000e+02</td>\n",
       "      <td>2356.000000</td>\n",
       "      <td>2356.000000</td>\n",
       "    </tr>\n",
       "    <tr>\n",
       "      <th>mean</th>\n",
       "      <td>7.427716e+17</td>\n",
       "      <td>7.455079e+17</td>\n",
       "      <td>2.014171e+16</td>\n",
       "      <td>7.720400e+17</td>\n",
       "      <td>1.241698e+16</td>\n",
       "      <td>13.126486</td>\n",
       "      <td>10.455433</td>\n",
       "    </tr>\n",
       "    <tr>\n",
       "      <th>std</th>\n",
       "      <td>6.856705e+16</td>\n",
       "      <td>7.582492e+16</td>\n",
       "      <td>1.252797e+17</td>\n",
       "      <td>6.236928e+16</td>\n",
       "      <td>9.599254e+16</td>\n",
       "      <td>45.876648</td>\n",
       "      <td>6.745237</td>\n",
       "    </tr>\n",
       "    <tr>\n",
       "      <th>min</th>\n",
       "      <td>6.660209e+17</td>\n",
       "      <td>6.658147e+17</td>\n",
       "      <td>1.185634e+07</td>\n",
       "      <td>6.661041e+17</td>\n",
       "      <td>7.832140e+05</td>\n",
       "      <td>0.000000</td>\n",
       "      <td>0.000000</td>\n",
       "    </tr>\n",
       "    <tr>\n",
       "      <th>25%</th>\n",
       "      <td>6.783989e+17</td>\n",
       "      <td>6.757419e+17</td>\n",
       "      <td>3.086374e+08</td>\n",
       "      <td>7.186315e+17</td>\n",
       "      <td>4.196984e+09</td>\n",
       "      <td>10.000000</td>\n",
       "      <td>10.000000</td>\n",
       "    </tr>\n",
       "    <tr>\n",
       "      <th>50%</th>\n",
       "      <td>7.196279e+17</td>\n",
       "      <td>7.038708e+17</td>\n",
       "      <td>4.196984e+09</td>\n",
       "      <td>7.804657e+17</td>\n",
       "      <td>4.196984e+09</td>\n",
       "      <td>11.000000</td>\n",
       "      <td>10.000000</td>\n",
       "    </tr>\n",
       "    <tr>\n",
       "      <th>75%</th>\n",
       "      <td>7.993373e+17</td>\n",
       "      <td>8.257804e+17</td>\n",
       "      <td>4.196984e+09</td>\n",
       "      <td>8.203146e+17</td>\n",
       "      <td>4.196984e+09</td>\n",
       "      <td>12.000000</td>\n",
       "      <td>10.000000</td>\n",
       "    </tr>\n",
       "    <tr>\n",
       "      <th>max</th>\n",
       "      <td>8.924206e+17</td>\n",
       "      <td>8.862664e+17</td>\n",
       "      <td>8.405479e+17</td>\n",
       "      <td>8.874740e+17</td>\n",
       "      <td>7.874618e+17</td>\n",
       "      <td>1776.000000</td>\n",
       "      <td>170.000000</td>\n",
       "    </tr>\n",
       "  </tbody>\n",
       "</table>\n",
       "</div>"
      ],
      "text/plain": [
       "           tweet_id  in_reply_to_status_id  in_reply_to_user_id  \\\n",
       "count  2.356000e+03           7.800000e+01         7.800000e+01   \n",
       "mean   7.427716e+17           7.455079e+17         2.014171e+16   \n",
       "std    6.856705e+16           7.582492e+16         1.252797e+17   \n",
       "min    6.660209e+17           6.658147e+17         1.185634e+07   \n",
       "25%    6.783989e+17           6.757419e+17         3.086374e+08   \n",
       "50%    7.196279e+17           7.038708e+17         4.196984e+09   \n",
       "75%    7.993373e+17           8.257804e+17         4.196984e+09   \n",
       "max    8.924206e+17           8.862664e+17         8.405479e+17   \n",
       "\n",
       "       retweeted_status_id  retweeted_status_user_id  rating_numerator  \\\n",
       "count         1.810000e+02              1.810000e+02       2356.000000   \n",
       "mean          7.720400e+17              1.241698e+16         13.126486   \n",
       "std           6.236928e+16              9.599254e+16         45.876648   \n",
       "min           6.661041e+17              7.832140e+05          0.000000   \n",
       "25%           7.186315e+17              4.196984e+09         10.000000   \n",
       "50%           7.804657e+17              4.196984e+09         11.000000   \n",
       "75%           8.203146e+17              4.196984e+09         12.000000   \n",
       "max           8.874740e+17              7.874618e+17       1776.000000   \n",
       "\n",
       "       rating_denominator  \n",
       "count         2356.000000  \n",
       "mean            10.455433  \n",
       "std              6.745237  \n",
       "min              0.000000  \n",
       "25%             10.000000  \n",
       "50%             10.000000  \n",
       "75%             10.000000  \n",
       "max            170.000000  "
      ]
     },
     "execution_count": 6,
     "metadata": {},
     "output_type": "execute_result"
    }
   ],
   "source": [
    "tweets_data.describe()"
   ]
  },
  {
   "cell_type": "code",
   "execution_count": 7,
   "metadata": {},
   "outputs": [
    {
     "data": {
      "text/html": [
       "<div>\n",
       "<style scoped>\n",
       "    .dataframe tbody tr th:only-of-type {\n",
       "        vertical-align: middle;\n",
       "    }\n",
       "\n",
       "    .dataframe tbody tr th {\n",
       "        vertical-align: top;\n",
       "    }\n",
       "\n",
       "    .dataframe thead th {\n",
       "        text-align: right;\n",
       "    }\n",
       "</style>\n",
       "<table border=\"1\" class=\"dataframe\">\n",
       "  <thead>\n",
       "    <tr style=\"text-align: right;\">\n",
       "      <th></th>\n",
       "      <th>tweet_id</th>\n",
       "      <th>in_reply_to_status_id</th>\n",
       "      <th>in_reply_to_user_id</th>\n",
       "      <th>timestamp</th>\n",
       "      <th>source</th>\n",
       "      <th>text</th>\n",
       "      <th>retweeted_status_id</th>\n",
       "      <th>retweeted_status_user_id</th>\n",
       "      <th>retweeted_status_timestamp</th>\n",
       "      <th>expanded_urls</th>\n",
       "      <th>rating_numerator</th>\n",
       "      <th>rating_denominator</th>\n",
       "      <th>name</th>\n",
       "      <th>doggo</th>\n",
       "      <th>floofer</th>\n",
       "      <th>pupper</th>\n",
       "      <th>puppo</th>\n",
       "    </tr>\n",
       "  </thead>\n",
       "  <tbody>\n",
       "    <tr>\n",
       "      <th>506</th>\n",
       "      <td>812747805718642688</td>\n",
       "      <td>NaN</td>\n",
       "      <td>NaN</td>\n",
       "      <td>2016-12-24 19:52:31 +0000</td>\n",
       "      <td>&lt;a href=\"http://twitter.com/download/iphone\" r...</td>\n",
       "      <td>RT @dog_rates: Meet Sammy. At first I was like...</td>\n",
       "      <td>6.800555e+17</td>\n",
       "      <td>4.196984e+09</td>\n",
       "      <td>2015-12-24 16:00:30 +0000</td>\n",
       "      <td>https://twitter.com/dog_rates/status/680055455...</td>\n",
       "      <td>10</td>\n",
       "      <td>10</td>\n",
       "      <td>Sammy</td>\n",
       "      <td>None</td>\n",
       "      <td>None</td>\n",
       "      <td>None</td>\n",
       "      <td>None</td>\n",
       "    </tr>\n",
       "    <tr>\n",
       "      <th>1218</th>\n",
       "      <td>714957620017307648</td>\n",
       "      <td>NaN</td>\n",
       "      <td>NaN</td>\n",
       "      <td>2016-03-29 23:29:14 +0000</td>\n",
       "      <td>&lt;a href=\"http://twitter.com/download/iphone\" r...</td>\n",
       "      <td>This is Curtis. He's an Albino Haberdasher. Te...</td>\n",
       "      <td>NaN</td>\n",
       "      <td>NaN</td>\n",
       "      <td>NaN</td>\n",
       "      <td>https://twitter.com/dog_rates/status/714957620...</td>\n",
       "      <td>10</td>\n",
       "      <td>10</td>\n",
       "      <td>Curtis</td>\n",
       "      <td>None</td>\n",
       "      <td>None</td>\n",
       "      <td>None</td>\n",
       "      <td>None</td>\n",
       "    </tr>\n",
       "    <tr>\n",
       "      <th>1096</th>\n",
       "      <td>736365877722001409</td>\n",
       "      <td>NaN</td>\n",
       "      <td>NaN</td>\n",
       "      <td>2016-05-28 01:18:00 +0000</td>\n",
       "      <td>&lt;a href=\"http://twitter.com/download/iphone\" r...</td>\n",
       "      <td>This is Rory. He's extremely impatient. 11/10 ...</td>\n",
       "      <td>NaN</td>\n",
       "      <td>NaN</td>\n",
       "      <td>NaN</td>\n",
       "      <td>https://twitter.com/dog_rates/status/736365877...</td>\n",
       "      <td>11</td>\n",
       "      <td>10</td>\n",
       "      <td>Rory</td>\n",
       "      <td>None</td>\n",
       "      <td>None</td>\n",
       "      <td>pupper</td>\n",
       "      <td>None</td>\n",
       "    </tr>\n",
       "    <tr>\n",
       "      <th>726</th>\n",
       "      <td>782598640137187329</td>\n",
       "      <td>NaN</td>\n",
       "      <td>NaN</td>\n",
       "      <td>2016-10-02 15:10:30 +0000</td>\n",
       "      <td>&lt;a href=\"http://twitter.com/download/iphone\" r...</td>\n",
       "      <td>This is Timmy. He's quite large. According to ...</td>\n",
       "      <td>NaN</td>\n",
       "      <td>NaN</td>\n",
       "      <td>NaN</td>\n",
       "      <td>https://twitter.com/dog_rates/status/782598640...</td>\n",
       "      <td>11</td>\n",
       "      <td>10</td>\n",
       "      <td>Timmy</td>\n",
       "      <td>None</td>\n",
       "      <td>None</td>\n",
       "      <td>None</td>\n",
       "      <td>None</td>\n",
       "    </tr>\n",
       "    <tr>\n",
       "      <th>2079</th>\n",
       "      <td>670826280409919488</td>\n",
       "      <td>NaN</td>\n",
       "      <td>NaN</td>\n",
       "      <td>2015-11-29 04:47:03 +0000</td>\n",
       "      <td>&lt;a href=\"http://twitter.com/download/iphone\" r...</td>\n",
       "      <td>Scary dog here. Too many legs. Extra tail. Not...</td>\n",
       "      <td>NaN</td>\n",
       "      <td>NaN</td>\n",
       "      <td>NaN</td>\n",
       "      <td>https://twitter.com/dog_rates/status/670826280...</td>\n",
       "      <td>2</td>\n",
       "      <td>10</td>\n",
       "      <td>None</td>\n",
       "      <td>None</td>\n",
       "      <td>None</td>\n",
       "      <td>None</td>\n",
       "      <td>None</td>\n",
       "    </tr>\n",
       "    <tr>\n",
       "      <th>2280</th>\n",
       "      <td>667393430834667520</td>\n",
       "      <td>NaN</td>\n",
       "      <td>NaN</td>\n",
       "      <td>2015-11-19 17:26:08 +0000</td>\n",
       "      <td>&lt;a href=\"http://twitter.com/download/iphone\" r...</td>\n",
       "      <td>This is Fwed. He is a Canadian Asian Taylormad...</td>\n",
       "      <td>NaN</td>\n",
       "      <td>NaN</td>\n",
       "      <td>NaN</td>\n",
       "      <td>https://twitter.com/dog_rates/status/667393430...</td>\n",
       "      <td>8</td>\n",
       "      <td>10</td>\n",
       "      <td>Fwed</td>\n",
       "      <td>None</td>\n",
       "      <td>None</td>\n",
       "      <td>None</td>\n",
       "      <td>None</td>\n",
       "    </tr>\n",
       "    <tr>\n",
       "      <th>1854</th>\n",
       "      <td>675534494439489536</td>\n",
       "      <td>NaN</td>\n",
       "      <td>NaN</td>\n",
       "      <td>2015-12-12 04:35:48 +0000</td>\n",
       "      <td>&lt;a href=\"http://twitter.com/download/iphone\" r...</td>\n",
       "      <td>Seriously guys?! Only send in dogs. I only rat...</td>\n",
       "      <td>NaN</td>\n",
       "      <td>NaN</td>\n",
       "      <td>NaN</td>\n",
       "      <td>https://twitter.com/dog_rates/status/675534494...</td>\n",
       "      <td>11</td>\n",
       "      <td>10</td>\n",
       "      <td>a</td>\n",
       "      <td>None</td>\n",
       "      <td>None</td>\n",
       "      <td>None</td>\n",
       "      <td>None</td>\n",
       "    </tr>\n",
       "    <tr>\n",
       "      <th>1509</th>\n",
       "      <td>691459709405118465</td>\n",
       "      <td>NaN</td>\n",
       "      <td>NaN</td>\n",
       "      <td>2016-01-25 03:16:56 +0000</td>\n",
       "      <td>&lt;a href=\"http://twitter.com/download/iphone\" r...</td>\n",
       "      <td>Say hello to Leo. He's a Fallopian Puffalope. ...</td>\n",
       "      <td>NaN</td>\n",
       "      <td>NaN</td>\n",
       "      <td>NaN</td>\n",
       "      <td>https://twitter.com/dog_rates/status/691459709...</td>\n",
       "      <td>12</td>\n",
       "      <td>10</td>\n",
       "      <td>Leo</td>\n",
       "      <td>None</td>\n",
       "      <td>None</td>\n",
       "      <td>None</td>\n",
       "      <td>None</td>\n",
       "    </tr>\n",
       "    <tr>\n",
       "      <th>1784</th>\n",
       "      <td>677662372920729601</td>\n",
       "      <td>NaN</td>\n",
       "      <td>NaN</td>\n",
       "      <td>2015-12-18 01:31:14 +0000</td>\n",
       "      <td>&lt;a href=\"http://twitter.com/download/iphone\" r...</td>\n",
       "      <td>In honor of the new Star Wars movie. Here's Yo...</td>\n",
       "      <td>NaN</td>\n",
       "      <td>NaN</td>\n",
       "      <td>NaN</td>\n",
       "      <td>https://twitter.com/dog_rates/status/677662372...</td>\n",
       "      <td>12</td>\n",
       "      <td>10</td>\n",
       "      <td>None</td>\n",
       "      <td>None</td>\n",
       "      <td>None</td>\n",
       "      <td>None</td>\n",
       "      <td>None</td>\n",
       "    </tr>\n",
       "    <tr>\n",
       "      <th>1057</th>\n",
       "      <td>742150209887731712</td>\n",
       "      <td>NaN</td>\n",
       "      <td>NaN</td>\n",
       "      <td>2016-06-13 00:22:53 +0000</td>\n",
       "      <td>&lt;a href=\"http://twitter.com/download/iphone\" r...</td>\n",
       "      <td>This is Edmund. He sends stellar selfies. Cute...</td>\n",
       "      <td>NaN</td>\n",
       "      <td>NaN</td>\n",
       "      <td>NaN</td>\n",
       "      <td>https://twitter.com/dog_rates/status/742150209...</td>\n",
       "      <td>8</td>\n",
       "      <td>10</td>\n",
       "      <td>Edmund</td>\n",
       "      <td>None</td>\n",
       "      <td>None</td>\n",
       "      <td>pupper</td>\n",
       "      <td>None</td>\n",
       "    </tr>\n",
       "    <tr>\n",
       "      <th>2118</th>\n",
       "      <td>670420569653809152</td>\n",
       "      <td>NaN</td>\n",
       "      <td>NaN</td>\n",
       "      <td>2015-11-28 01:54:54 +0000</td>\n",
       "      <td>&lt;a href=\"http://twitter.com/download/iphone\" r...</td>\n",
       "      <td>This is Damon. The newest presidential candida...</td>\n",
       "      <td>NaN</td>\n",
       "      <td>NaN</td>\n",
       "      <td>NaN</td>\n",
       "      <td>https://twitter.com/dog_rates/status/670420569...</td>\n",
       "      <td>10</td>\n",
       "      <td>10</td>\n",
       "      <td>Damon</td>\n",
       "      <td>None</td>\n",
       "      <td>None</td>\n",
       "      <td>None</td>\n",
       "      <td>None</td>\n",
       "    </tr>\n",
       "    <tr>\n",
       "      <th>2070</th>\n",
       "      <td>671122204919246848</td>\n",
       "      <td>NaN</td>\n",
       "      <td>NaN</td>\n",
       "      <td>2015-11-30 00:22:57 +0000</td>\n",
       "      <td>&lt;a href=\"http://twitter.com/download/iphone\" r...</td>\n",
       "      <td>Two miniature golden retrievers here. Webbed p...</td>\n",
       "      <td>NaN</td>\n",
       "      <td>NaN</td>\n",
       "      <td>NaN</td>\n",
       "      <td>https://twitter.com/dog_rates/status/671122204...</td>\n",
       "      <td>4</td>\n",
       "      <td>10</td>\n",
       "      <td>None</td>\n",
       "      <td>None</td>\n",
       "      <td>None</td>\n",
       "      <td>None</td>\n",
       "      <td>None</td>\n",
       "    </tr>\n",
       "    <tr>\n",
       "      <th>594</th>\n",
       "      <td>798705661114773508</td>\n",
       "      <td>NaN</td>\n",
       "      <td>NaN</td>\n",
       "      <td>2016-11-16 01:54:03 +0000</td>\n",
       "      <td>&lt;a href=\"http://twitter.com/download/iphone\" r...</td>\n",
       "      <td>RT @dog_rates: Meet Baloo. He's expecting a fa...</td>\n",
       "      <td>7.406770e+17</td>\n",
       "      <td>4.196984e+09</td>\n",
       "      <td>2016-06-08 22:48:46 +0000</td>\n",
       "      <td>https://twitter.com/dog_rates/status/740676976...</td>\n",
       "      <td>11</td>\n",
       "      <td>10</td>\n",
       "      <td>Baloo</td>\n",
       "      <td>None</td>\n",
       "      <td>None</td>\n",
       "      <td>pupper</td>\n",
       "      <td>None</td>\n",
       "    </tr>\n",
       "    <tr>\n",
       "      <th>1973</th>\n",
       "      <td>673213039743795200</td>\n",
       "      <td>NaN</td>\n",
       "      <td>NaN</td>\n",
       "      <td>2015-12-05 18:51:11 +0000</td>\n",
       "      <td>&lt;a href=\"http://twitter.com/download/iphone\" r...</td>\n",
       "      <td>This is Dexter. He just got some big news. 10/...</td>\n",
       "      <td>NaN</td>\n",
       "      <td>NaN</td>\n",
       "      <td>NaN</td>\n",
       "      <td>https://twitter.com/dog_rates/status/673213039...</td>\n",
       "      <td>10</td>\n",
       "      <td>10</td>\n",
       "      <td>Dexter</td>\n",
       "      <td>None</td>\n",
       "      <td>None</td>\n",
       "      <td>None</td>\n",
       "      <td>None</td>\n",
       "    </tr>\n",
       "    <tr>\n",
       "      <th>433</th>\n",
       "      <td>820690176645140481</td>\n",
       "      <td>NaN</td>\n",
       "      <td>NaN</td>\n",
       "      <td>2017-01-15 17:52:40 +0000</td>\n",
       "      <td>&lt;a href=\"http://twitter.com/download/iphone\" r...</td>\n",
       "      <td>The floofs have been released I repeat the flo...</td>\n",
       "      <td>NaN</td>\n",
       "      <td>NaN</td>\n",
       "      <td>NaN</td>\n",
       "      <td>https://twitter.com/dog_rates/status/820690176...</td>\n",
       "      <td>84</td>\n",
       "      <td>70</td>\n",
       "      <td>None</td>\n",
       "      <td>None</td>\n",
       "      <td>None</td>\n",
       "      <td>None</td>\n",
       "      <td>None</td>\n",
       "    </tr>\n",
       "    <tr>\n",
       "      <th>1392</th>\n",
       "      <td>700062718104104960</td>\n",
       "      <td>NaN</td>\n",
       "      <td>NaN</td>\n",
       "      <td>2016-02-17 21:02:13 +0000</td>\n",
       "      <td>&lt;a href=\"http://twitter.com/download/iphone\" r...</td>\n",
       "      <td>This is Eazy-E. He's colorful af. Must be rare...</td>\n",
       "      <td>NaN</td>\n",
       "      <td>NaN</td>\n",
       "      <td>NaN</td>\n",
       "      <td>https://twitter.com/dog_rates/status/700062718...</td>\n",
       "      <td>6</td>\n",
       "      <td>10</td>\n",
       "      <td>Eazy</td>\n",
       "      <td>None</td>\n",
       "      <td>None</td>\n",
       "      <td>None</td>\n",
       "      <td>None</td>\n",
       "    </tr>\n",
       "    <tr>\n",
       "      <th>910</th>\n",
       "      <td>757611664640446465</td>\n",
       "      <td>NaN</td>\n",
       "      <td>NaN</td>\n",
       "      <td>2016-07-25 16:21:11 +0000</td>\n",
       "      <td>&lt;a href=\"http://twitter.com/download/iphone\" r...</td>\n",
       "      <td>This is Cooper. He tries to come across as fei...</td>\n",
       "      <td>NaN</td>\n",
       "      <td>NaN</td>\n",
       "      <td>NaN</td>\n",
       "      <td>https://twitter.com/dog_rates/status/757611664...</td>\n",
       "      <td>12</td>\n",
       "      <td>10</td>\n",
       "      <td>Cooper</td>\n",
       "      <td>None</td>\n",
       "      <td>None</td>\n",
       "      <td>None</td>\n",
       "      <td>None</td>\n",
       "    </tr>\n",
       "    <tr>\n",
       "      <th>1111</th>\n",
       "      <td>733482008106668032</td>\n",
       "      <td>NaN</td>\n",
       "      <td>NaN</td>\n",
       "      <td>2016-05-20 02:18:32 +0000</td>\n",
       "      <td>&lt;a href=\"http://twitter.com/download/iphone\" r...</td>\n",
       "      <td>\"Ello this is dog how may I assist\" ...10/10 h...</td>\n",
       "      <td>NaN</td>\n",
       "      <td>NaN</td>\n",
       "      <td>NaN</td>\n",
       "      <td>https://twitter.com/dog_rates/status/733482008...</td>\n",
       "      <td>10</td>\n",
       "      <td>10</td>\n",
       "      <td>None</td>\n",
       "      <td>None</td>\n",
       "      <td>None</td>\n",
       "      <td>None</td>\n",
       "      <td>None</td>\n",
       "    </tr>\n",
       "    <tr>\n",
       "      <th>1985</th>\n",
       "      <td>672898206762672129</td>\n",
       "      <td>NaN</td>\n",
       "      <td>NaN</td>\n",
       "      <td>2015-12-04 22:00:08 +0000</td>\n",
       "      <td>&lt;a href=\"http://twitter.com/download/iphone\" r...</td>\n",
       "      <td>This is Cheryl AKA Queen Pupper of the Skies. ...</td>\n",
       "      <td>NaN</td>\n",
       "      <td>NaN</td>\n",
       "      <td>NaN</td>\n",
       "      <td>https://twitter.com/dog_rates/status/672898206...</td>\n",
       "      <td>11</td>\n",
       "      <td>10</td>\n",
       "      <td>Cheryl</td>\n",
       "      <td>None</td>\n",
       "      <td>None</td>\n",
       "      <td>pupper</td>\n",
       "      <td>None</td>\n",
       "    </tr>\n",
       "    <tr>\n",
       "      <th>342</th>\n",
       "      <td>832088576586297345</td>\n",
       "      <td>8.320875e+17</td>\n",
       "      <td>3.058208e+07</td>\n",
       "      <td>2017-02-16 04:45:50 +0000</td>\n",
       "      <td>&lt;a href=\"http://twitter.com/download/iphone\" r...</td>\n",
       "      <td>@docmisterio account started on 11/15/15</td>\n",
       "      <td>NaN</td>\n",
       "      <td>NaN</td>\n",
       "      <td>NaN</td>\n",
       "      <td>NaN</td>\n",
       "      <td>11</td>\n",
       "      <td>15</td>\n",
       "      <td>None</td>\n",
       "      <td>None</td>\n",
       "      <td>None</td>\n",
       "      <td>None</td>\n",
       "      <td>None</td>\n",
       "    </tr>\n",
       "    <tr>\n",
       "      <th>1337</th>\n",
       "      <td>705102439679201280</td>\n",
       "      <td>NaN</td>\n",
       "      <td>NaN</td>\n",
       "      <td>2016-03-02 18:48:16 +0000</td>\n",
       "      <td>&lt;a href=\"http://twitter.com/download/iphone\" r...</td>\n",
       "      <td>This is Terrenth. He just stubbed his toe. 10/...</td>\n",
       "      <td>NaN</td>\n",
       "      <td>NaN</td>\n",
       "      <td>NaN</td>\n",
       "      <td>https://twitter.com/dog_rates/status/705102439...</td>\n",
       "      <td>10</td>\n",
       "      <td>10</td>\n",
       "      <td>Terrenth</td>\n",
       "      <td>None</td>\n",
       "      <td>None</td>\n",
       "      <td>None</td>\n",
       "      <td>None</td>\n",
       "    </tr>\n",
       "    <tr>\n",
       "      <th>2112</th>\n",
       "      <td>670435821946826752</td>\n",
       "      <td>NaN</td>\n",
       "      <td>NaN</td>\n",
       "      <td>2015-11-28 02:55:30 +0000</td>\n",
       "      <td>&lt;a href=\"http://twitter.com/download/iphone\" r...</td>\n",
       "      <td>Two unbelievably athletic dogs here. Great for...</td>\n",
       "      <td>NaN</td>\n",
       "      <td>NaN</td>\n",
       "      <td>NaN</td>\n",
       "      <td>https://twitter.com/dog_rates/status/670435821...</td>\n",
       "      <td>10</td>\n",
       "      <td>10</td>\n",
       "      <td>None</td>\n",
       "      <td>None</td>\n",
       "      <td>None</td>\n",
       "      <td>None</td>\n",
       "      <td>None</td>\n",
       "    </tr>\n",
       "    <tr>\n",
       "      <th>1804</th>\n",
       "      <td>676946864479084545</td>\n",
       "      <td>NaN</td>\n",
       "      <td>NaN</td>\n",
       "      <td>2015-12-16 02:08:04 +0000</td>\n",
       "      <td>&lt;a href=\"http://twitter.com/download/iphone\" r...</td>\n",
       "      <td>This pups goal was to get all four feet as clo...</td>\n",
       "      <td>NaN</td>\n",
       "      <td>NaN</td>\n",
       "      <td>NaN</td>\n",
       "      <td>https://twitter.com/dog_rates/status/676946864...</td>\n",
       "      <td>12</td>\n",
       "      <td>10</td>\n",
       "      <td>None</td>\n",
       "      <td>None</td>\n",
       "      <td>None</td>\n",
       "      <td>None</td>\n",
       "      <td>None</td>\n",
       "    </tr>\n",
       "    <tr>\n",
       "      <th>956</th>\n",
       "      <td>751583847268179968</td>\n",
       "      <td>NaN</td>\n",
       "      <td>NaN</td>\n",
       "      <td>2016-07-09 01:08:47 +0000</td>\n",
       "      <td>&lt;a href=\"http://twitter.com/download/iphone\" r...</td>\n",
       "      <td>Please stop sending it pictures that don't eve...</td>\n",
       "      <td>NaN</td>\n",
       "      <td>NaN</td>\n",
       "      <td>NaN</td>\n",
       "      <td>https://twitter.com/dog_rates/status/751583847...</td>\n",
       "      <td>5</td>\n",
       "      <td>10</td>\n",
       "      <td>None</td>\n",
       "      <td>doggo</td>\n",
       "      <td>None</td>\n",
       "      <td>pupper</td>\n",
       "      <td>None</td>\n",
       "    </tr>\n",
       "    <tr>\n",
       "      <th>734</th>\n",
       "      <td>781251288990355457</td>\n",
       "      <td>NaN</td>\n",
       "      <td>NaN</td>\n",
       "      <td>2016-09-28 21:56:36 +0000</td>\n",
       "      <td>&lt;a href=\"http://twitter.com/download/iphone\" r...</td>\n",
       "      <td>This is Oakley. He just got yelled at for goin...</td>\n",
       "      <td>NaN</td>\n",
       "      <td>NaN</td>\n",
       "      <td>NaN</td>\n",
       "      <td>https://twitter.com/dog_rates/status/781251288...</td>\n",
       "      <td>11</td>\n",
       "      <td>10</td>\n",
       "      <td>Oakley</td>\n",
       "      <td>None</td>\n",
       "      <td>None</td>\n",
       "      <td>None</td>\n",
       "      <td>None</td>\n",
       "    </tr>\n",
       "    <tr>\n",
       "      <th>2288</th>\n",
       "      <td>667176164155375616</td>\n",
       "      <td>NaN</td>\n",
       "      <td>NaN</td>\n",
       "      <td>2015-11-19 03:02:47 +0000</td>\n",
       "      <td>&lt;a href=\"http://twitter.com/download/iphone\" r...</td>\n",
       "      <td>These are strange dogs. All have toupees. Long...</td>\n",
       "      <td>NaN</td>\n",
       "      <td>NaN</td>\n",
       "      <td>NaN</td>\n",
       "      <td>https://twitter.com/dog_rates/status/667176164...</td>\n",
       "      <td>4</td>\n",
       "      <td>10</td>\n",
       "      <td>None</td>\n",
       "      <td>None</td>\n",
       "      <td>None</td>\n",
       "      <td>None</td>\n",
       "      <td>None</td>\n",
       "    </tr>\n",
       "    <tr>\n",
       "      <th>239</th>\n",
       "      <td>846874817362120707</td>\n",
       "      <td>NaN</td>\n",
       "      <td>NaN</td>\n",
       "      <td>2017-03-29 00:01:05 +0000</td>\n",
       "      <td>&lt;a href=\"http://twitter.com/download/iphone\" r...</td>\n",
       "      <td>This is Tuck. As you can see, he's rather h*ck...</td>\n",
       "      <td>NaN</td>\n",
       "      <td>NaN</td>\n",
       "      <td>NaN</td>\n",
       "      <td>https://twitter.com/dog_rates/status/846874817...</td>\n",
       "      <td>13</td>\n",
       "      <td>10</td>\n",
       "      <td>Tuck</td>\n",
       "      <td>None</td>\n",
       "      <td>None</td>\n",
       "      <td>None</td>\n",
       "      <td>None</td>\n",
       "    </tr>\n",
       "    <tr>\n",
       "      <th>1910</th>\n",
       "      <td>674416750885273600</td>\n",
       "      <td>NaN</td>\n",
       "      <td>NaN</td>\n",
       "      <td>2015-12-09 02:34:18 +0000</td>\n",
       "      <td>&lt;a href=\"http://twitter.com/download/iphone\" r...</td>\n",
       "      <td>This is Jonah. He's a Stinted Fisher Price. En...</td>\n",
       "      <td>NaN</td>\n",
       "      <td>NaN</td>\n",
       "      <td>NaN</td>\n",
       "      <td>https://twitter.com/dog_rates/status/674416750...</td>\n",
       "      <td>10</td>\n",
       "      <td>10</td>\n",
       "      <td>Jonah</td>\n",
       "      <td>None</td>\n",
       "      <td>None</td>\n",
       "      <td>None</td>\n",
       "      <td>None</td>\n",
       "    </tr>\n",
       "    <tr>\n",
       "      <th>683</th>\n",
       "      <td>788412144018661376</td>\n",
       "      <td>NaN</td>\n",
       "      <td>NaN</td>\n",
       "      <td>2016-10-18 16:11:17 +0000</td>\n",
       "      <td>&lt;a href=\"http://twitter.com/download/iphone\" r...</td>\n",
       "      <td>This is Dexter. He breaks hearts for a living....</td>\n",
       "      <td>NaN</td>\n",
       "      <td>NaN</td>\n",
       "      <td>NaN</td>\n",
       "      <td>https://twitter.com/dog_rates/status/788412144...</td>\n",
       "      <td>11</td>\n",
       "      <td>10</td>\n",
       "      <td>Dexter</td>\n",
       "      <td>None</td>\n",
       "      <td>None</td>\n",
       "      <td>None</td>\n",
       "      <td>None</td>\n",
       "    </tr>\n",
       "    <tr>\n",
       "      <th>1819</th>\n",
       "      <td>676590572941893632</td>\n",
       "      <td>6.765883e+17</td>\n",
       "      <td>4.196984e+09</td>\n",
       "      <td>2015-12-15 02:32:17 +0000</td>\n",
       "      <td>&lt;a href=\"http://twitter.com/download/iphone\" r...</td>\n",
       "      <td>After some outrage from the crowd. Bubbles is ...</td>\n",
       "      <td>NaN</td>\n",
       "      <td>NaN</td>\n",
       "      <td>NaN</td>\n",
       "      <td>NaN</td>\n",
       "      <td>7</td>\n",
       "      <td>10</td>\n",
       "      <td>None</td>\n",
       "      <td>None</td>\n",
       "      <td>None</td>\n",
       "      <td>None</td>\n",
       "      <td>None</td>\n",
       "    </tr>\n",
       "  </tbody>\n",
       "</table>\n",
       "</div>"
      ],
      "text/plain": [
       "                tweet_id  in_reply_to_status_id  in_reply_to_user_id  \\\n",
       "506   812747805718642688                    NaN                  NaN   \n",
       "1218  714957620017307648                    NaN                  NaN   \n",
       "1096  736365877722001409                    NaN                  NaN   \n",
       "726   782598640137187329                    NaN                  NaN   \n",
       "2079  670826280409919488                    NaN                  NaN   \n",
       "2280  667393430834667520                    NaN                  NaN   \n",
       "1854  675534494439489536                    NaN                  NaN   \n",
       "1509  691459709405118465                    NaN                  NaN   \n",
       "1784  677662372920729601                    NaN                  NaN   \n",
       "1057  742150209887731712                    NaN                  NaN   \n",
       "2118  670420569653809152                    NaN                  NaN   \n",
       "2070  671122204919246848                    NaN                  NaN   \n",
       "594   798705661114773508                    NaN                  NaN   \n",
       "1973  673213039743795200                    NaN                  NaN   \n",
       "433   820690176645140481                    NaN                  NaN   \n",
       "1392  700062718104104960                    NaN                  NaN   \n",
       "910   757611664640446465                    NaN                  NaN   \n",
       "1111  733482008106668032                    NaN                  NaN   \n",
       "1985  672898206762672129                    NaN                  NaN   \n",
       "342   832088576586297345           8.320875e+17         3.058208e+07   \n",
       "1337  705102439679201280                    NaN                  NaN   \n",
       "2112  670435821946826752                    NaN                  NaN   \n",
       "1804  676946864479084545                    NaN                  NaN   \n",
       "956   751583847268179968                    NaN                  NaN   \n",
       "734   781251288990355457                    NaN                  NaN   \n",
       "2288  667176164155375616                    NaN                  NaN   \n",
       "239   846874817362120707                    NaN                  NaN   \n",
       "1910  674416750885273600                    NaN                  NaN   \n",
       "683   788412144018661376                    NaN                  NaN   \n",
       "1819  676590572941893632           6.765883e+17         4.196984e+09   \n",
       "\n",
       "                      timestamp  \\\n",
       "506   2016-12-24 19:52:31 +0000   \n",
       "1218  2016-03-29 23:29:14 +0000   \n",
       "1096  2016-05-28 01:18:00 +0000   \n",
       "726   2016-10-02 15:10:30 +0000   \n",
       "2079  2015-11-29 04:47:03 +0000   \n",
       "2280  2015-11-19 17:26:08 +0000   \n",
       "1854  2015-12-12 04:35:48 +0000   \n",
       "1509  2016-01-25 03:16:56 +0000   \n",
       "1784  2015-12-18 01:31:14 +0000   \n",
       "1057  2016-06-13 00:22:53 +0000   \n",
       "2118  2015-11-28 01:54:54 +0000   \n",
       "2070  2015-11-30 00:22:57 +0000   \n",
       "594   2016-11-16 01:54:03 +0000   \n",
       "1973  2015-12-05 18:51:11 +0000   \n",
       "433   2017-01-15 17:52:40 +0000   \n",
       "1392  2016-02-17 21:02:13 +0000   \n",
       "910   2016-07-25 16:21:11 +0000   \n",
       "1111  2016-05-20 02:18:32 +0000   \n",
       "1985  2015-12-04 22:00:08 +0000   \n",
       "342   2017-02-16 04:45:50 +0000   \n",
       "1337  2016-03-02 18:48:16 +0000   \n",
       "2112  2015-11-28 02:55:30 +0000   \n",
       "1804  2015-12-16 02:08:04 +0000   \n",
       "956   2016-07-09 01:08:47 +0000   \n",
       "734   2016-09-28 21:56:36 +0000   \n",
       "2288  2015-11-19 03:02:47 +0000   \n",
       "239   2017-03-29 00:01:05 +0000   \n",
       "1910  2015-12-09 02:34:18 +0000   \n",
       "683   2016-10-18 16:11:17 +0000   \n",
       "1819  2015-12-15 02:32:17 +0000   \n",
       "\n",
       "                                                 source  \\\n",
       "506   <a href=\"http://twitter.com/download/iphone\" r...   \n",
       "1218  <a href=\"http://twitter.com/download/iphone\" r...   \n",
       "1096  <a href=\"http://twitter.com/download/iphone\" r...   \n",
       "726   <a href=\"http://twitter.com/download/iphone\" r...   \n",
       "2079  <a href=\"http://twitter.com/download/iphone\" r...   \n",
       "2280  <a href=\"http://twitter.com/download/iphone\" r...   \n",
       "1854  <a href=\"http://twitter.com/download/iphone\" r...   \n",
       "1509  <a href=\"http://twitter.com/download/iphone\" r...   \n",
       "1784  <a href=\"http://twitter.com/download/iphone\" r...   \n",
       "1057  <a href=\"http://twitter.com/download/iphone\" r...   \n",
       "2118  <a href=\"http://twitter.com/download/iphone\" r...   \n",
       "2070  <a href=\"http://twitter.com/download/iphone\" r...   \n",
       "594   <a href=\"http://twitter.com/download/iphone\" r...   \n",
       "1973  <a href=\"http://twitter.com/download/iphone\" r...   \n",
       "433   <a href=\"http://twitter.com/download/iphone\" r...   \n",
       "1392  <a href=\"http://twitter.com/download/iphone\" r...   \n",
       "910   <a href=\"http://twitter.com/download/iphone\" r...   \n",
       "1111  <a href=\"http://twitter.com/download/iphone\" r...   \n",
       "1985  <a href=\"http://twitter.com/download/iphone\" r...   \n",
       "342   <a href=\"http://twitter.com/download/iphone\" r...   \n",
       "1337  <a href=\"http://twitter.com/download/iphone\" r...   \n",
       "2112  <a href=\"http://twitter.com/download/iphone\" r...   \n",
       "1804  <a href=\"http://twitter.com/download/iphone\" r...   \n",
       "956   <a href=\"http://twitter.com/download/iphone\" r...   \n",
       "734   <a href=\"http://twitter.com/download/iphone\" r...   \n",
       "2288  <a href=\"http://twitter.com/download/iphone\" r...   \n",
       "239   <a href=\"http://twitter.com/download/iphone\" r...   \n",
       "1910  <a href=\"http://twitter.com/download/iphone\" r...   \n",
       "683   <a href=\"http://twitter.com/download/iphone\" r...   \n",
       "1819  <a href=\"http://twitter.com/download/iphone\" r...   \n",
       "\n",
       "                                                   text  retweeted_status_id  \\\n",
       "506   RT @dog_rates: Meet Sammy. At first I was like...         6.800555e+17   \n",
       "1218  This is Curtis. He's an Albino Haberdasher. Te...                  NaN   \n",
       "1096  This is Rory. He's extremely impatient. 11/10 ...                  NaN   \n",
       "726   This is Timmy. He's quite large. According to ...                  NaN   \n",
       "2079  Scary dog here. Too many legs. Extra tail. Not...                  NaN   \n",
       "2280  This is Fwed. He is a Canadian Asian Taylormad...                  NaN   \n",
       "1854  Seriously guys?! Only send in dogs. I only rat...                  NaN   \n",
       "1509  Say hello to Leo. He's a Fallopian Puffalope. ...                  NaN   \n",
       "1784  In honor of the new Star Wars movie. Here's Yo...                  NaN   \n",
       "1057  This is Edmund. He sends stellar selfies. Cute...                  NaN   \n",
       "2118  This is Damon. The newest presidential candida...                  NaN   \n",
       "2070  Two miniature golden retrievers here. Webbed p...                  NaN   \n",
       "594   RT @dog_rates: Meet Baloo. He's expecting a fa...         7.406770e+17   \n",
       "1973  This is Dexter. He just got some big news. 10/...                  NaN   \n",
       "433   The floofs have been released I repeat the flo...                  NaN   \n",
       "1392  This is Eazy-E. He's colorful af. Must be rare...                  NaN   \n",
       "910   This is Cooper. He tries to come across as fei...                  NaN   \n",
       "1111  \"Ello this is dog how may I assist\" ...10/10 h...                  NaN   \n",
       "1985  This is Cheryl AKA Queen Pupper of the Skies. ...                  NaN   \n",
       "342            @docmisterio account started on 11/15/15                  NaN   \n",
       "1337  This is Terrenth. He just stubbed his toe. 10/...                  NaN   \n",
       "2112  Two unbelievably athletic dogs here. Great for...                  NaN   \n",
       "1804  This pups goal was to get all four feet as clo...                  NaN   \n",
       "956   Please stop sending it pictures that don't eve...                  NaN   \n",
       "734   This is Oakley. He just got yelled at for goin...                  NaN   \n",
       "2288  These are strange dogs. All have toupees. Long...                  NaN   \n",
       "239   This is Tuck. As you can see, he's rather h*ck...                  NaN   \n",
       "1910  This is Jonah. He's a Stinted Fisher Price. En...                  NaN   \n",
       "683   This is Dexter. He breaks hearts for a living....                  NaN   \n",
       "1819  After some outrage from the crowd. Bubbles is ...                  NaN   \n",
       "\n",
       "      retweeted_status_user_id retweeted_status_timestamp  \\\n",
       "506               4.196984e+09  2015-12-24 16:00:30 +0000   \n",
       "1218                       NaN                        NaN   \n",
       "1096                       NaN                        NaN   \n",
       "726                        NaN                        NaN   \n",
       "2079                       NaN                        NaN   \n",
       "2280                       NaN                        NaN   \n",
       "1854                       NaN                        NaN   \n",
       "1509                       NaN                        NaN   \n",
       "1784                       NaN                        NaN   \n",
       "1057                       NaN                        NaN   \n",
       "2118                       NaN                        NaN   \n",
       "2070                       NaN                        NaN   \n",
       "594               4.196984e+09  2016-06-08 22:48:46 +0000   \n",
       "1973                       NaN                        NaN   \n",
       "433                        NaN                        NaN   \n",
       "1392                       NaN                        NaN   \n",
       "910                        NaN                        NaN   \n",
       "1111                       NaN                        NaN   \n",
       "1985                       NaN                        NaN   \n",
       "342                        NaN                        NaN   \n",
       "1337                       NaN                        NaN   \n",
       "2112                       NaN                        NaN   \n",
       "1804                       NaN                        NaN   \n",
       "956                        NaN                        NaN   \n",
       "734                        NaN                        NaN   \n",
       "2288                       NaN                        NaN   \n",
       "239                        NaN                        NaN   \n",
       "1910                       NaN                        NaN   \n",
       "683                        NaN                        NaN   \n",
       "1819                       NaN                        NaN   \n",
       "\n",
       "                                          expanded_urls  rating_numerator  \\\n",
       "506   https://twitter.com/dog_rates/status/680055455...                10   \n",
       "1218  https://twitter.com/dog_rates/status/714957620...                10   \n",
       "1096  https://twitter.com/dog_rates/status/736365877...                11   \n",
       "726   https://twitter.com/dog_rates/status/782598640...                11   \n",
       "2079  https://twitter.com/dog_rates/status/670826280...                 2   \n",
       "2280  https://twitter.com/dog_rates/status/667393430...                 8   \n",
       "1854  https://twitter.com/dog_rates/status/675534494...                11   \n",
       "1509  https://twitter.com/dog_rates/status/691459709...                12   \n",
       "1784  https://twitter.com/dog_rates/status/677662372...                12   \n",
       "1057  https://twitter.com/dog_rates/status/742150209...                 8   \n",
       "2118  https://twitter.com/dog_rates/status/670420569...                10   \n",
       "2070  https://twitter.com/dog_rates/status/671122204...                 4   \n",
       "594   https://twitter.com/dog_rates/status/740676976...                11   \n",
       "1973  https://twitter.com/dog_rates/status/673213039...                10   \n",
       "433   https://twitter.com/dog_rates/status/820690176...                84   \n",
       "1392  https://twitter.com/dog_rates/status/700062718...                 6   \n",
       "910   https://twitter.com/dog_rates/status/757611664...                12   \n",
       "1111  https://twitter.com/dog_rates/status/733482008...                10   \n",
       "1985  https://twitter.com/dog_rates/status/672898206...                11   \n",
       "342                                                 NaN                11   \n",
       "1337  https://twitter.com/dog_rates/status/705102439...                10   \n",
       "2112  https://twitter.com/dog_rates/status/670435821...                10   \n",
       "1804  https://twitter.com/dog_rates/status/676946864...                12   \n",
       "956   https://twitter.com/dog_rates/status/751583847...                 5   \n",
       "734   https://twitter.com/dog_rates/status/781251288...                11   \n",
       "2288  https://twitter.com/dog_rates/status/667176164...                 4   \n",
       "239   https://twitter.com/dog_rates/status/846874817...                13   \n",
       "1910  https://twitter.com/dog_rates/status/674416750...                10   \n",
       "683   https://twitter.com/dog_rates/status/788412144...                11   \n",
       "1819                                                NaN                 7   \n",
       "\n",
       "      rating_denominator      name  doggo floofer  pupper puppo  \n",
       "506                   10     Sammy   None    None    None  None  \n",
       "1218                  10    Curtis   None    None    None  None  \n",
       "1096                  10      Rory   None    None  pupper  None  \n",
       "726                   10     Timmy   None    None    None  None  \n",
       "2079                  10      None   None    None    None  None  \n",
       "2280                  10      Fwed   None    None    None  None  \n",
       "1854                  10         a   None    None    None  None  \n",
       "1509                  10       Leo   None    None    None  None  \n",
       "1784                  10      None   None    None    None  None  \n",
       "1057                  10    Edmund   None    None  pupper  None  \n",
       "2118                  10     Damon   None    None    None  None  \n",
       "2070                  10      None   None    None    None  None  \n",
       "594                   10     Baloo   None    None  pupper  None  \n",
       "1973                  10    Dexter   None    None    None  None  \n",
       "433                   70      None   None    None    None  None  \n",
       "1392                  10      Eazy   None    None    None  None  \n",
       "910                   10    Cooper   None    None    None  None  \n",
       "1111                  10      None   None    None    None  None  \n",
       "1985                  10    Cheryl   None    None  pupper  None  \n",
       "342                   15      None   None    None    None  None  \n",
       "1337                  10  Terrenth   None    None    None  None  \n",
       "2112                  10      None   None    None    None  None  \n",
       "1804                  10      None   None    None    None  None  \n",
       "956                   10      None  doggo    None  pupper  None  \n",
       "734                   10    Oakley   None    None    None  None  \n",
       "2288                  10      None   None    None    None  None  \n",
       "239                   10      Tuck   None    None    None  None  \n",
       "1910                  10     Jonah   None    None    None  None  \n",
       "683                   10    Dexter   None    None    None  None  \n",
       "1819                  10      None   None    None    None  None  "
      ]
     },
     "execution_count": 7,
     "metadata": {},
     "output_type": "execute_result"
    }
   ],
   "source": [
    "tweets_data.sample(30)"
   ]
  },
  {
   "cell_type": "code",
   "execution_count": 8,
   "metadata": {},
   "outputs": [
    {
     "data": {
      "text/plain": [
       "False    2356\n",
       "Name: tweet_id, dtype: int64"
      ]
     },
     "execution_count": 8,
     "metadata": {},
     "output_type": "execute_result"
    }
   ],
   "source": [
    "tweets_data.tweet_id.duplicated().value_counts()"
   ]
  },
  {
   "cell_type": "markdown",
   "metadata": {},
   "source": [
    "## Findings from tweets_data dataframe\n",
    "\n",
    "### Quality Issues:\n",
    "\n",
    "#### 1. There are retweets and replied tweets also present in the dataset, since we only need original tweets, we need to remove retweets and replied tweets.\n",
    "#### 2. Datatype issue - in_reply_to_status_id, in_reply_to_user_id, retweeted_status_id , retweeted_status_user_id are floats, they should be int\n",
    "#### 3. Incorrect format of timestamp, it is string but should be timestamp\n",
    "#### 4. rating_denominator seems to have abnormal values like 0, 170 etc. It should always be 10. \n",
    "#### 5.Some tweets have more than 1 dog stage ex: pupper, duggo both as dog stage. Fix it to right dog stage.\n",
    "#### 6.\n",
    "\n",
    "### Tidiness Issues:\n",
    "\n",
    "#### 1. Column 'source' is in URL format, source can be extracted from the URL\n",
    "#### 2. doggo, floofer, pupper, puppo should not be 4 columns but value of a single column\n"
   ]
  },
  {
   "cell_type": "markdown",
   "metadata": {},
   "source": [
    "## Assessing img_predictions dataframe"
   ]
  },
  {
   "cell_type": "code",
   "execution_count": 9,
   "metadata": {},
   "outputs": [
    {
     "name": "stdout",
     "output_type": "stream",
     "text": [
      "<class 'pandas.core.frame.DataFrame'>\n",
      "RangeIndex: 2075 entries, 0 to 2074\n",
      "Data columns (total 12 columns):\n",
      "tweet_id    2075 non-null int64\n",
      "jpg_url     2075 non-null object\n",
      "img_num     2075 non-null int64\n",
      "p1          2075 non-null object\n",
      "p1_conf     2075 non-null float64\n",
      "p1_dog      2075 non-null bool\n",
      "p2          2075 non-null object\n",
      "p2_conf     2075 non-null float64\n",
      "p2_dog      2075 non-null bool\n",
      "p3          2075 non-null object\n",
      "p3_conf     2075 non-null float64\n",
      "p3_dog      2075 non-null bool\n",
      "dtypes: bool(3), float64(3), int64(2), object(4)\n",
      "memory usage: 152.1+ KB\n"
     ]
    }
   ],
   "source": [
    "img_predictions.info()"
   ]
  },
  {
   "cell_type": "code",
   "execution_count": 10,
   "metadata": {},
   "outputs": [
    {
     "data": {
      "text/html": [
       "<div>\n",
       "<style scoped>\n",
       "    .dataframe tbody tr th:only-of-type {\n",
       "        vertical-align: middle;\n",
       "    }\n",
       "\n",
       "    .dataframe tbody tr th {\n",
       "        vertical-align: top;\n",
       "    }\n",
       "\n",
       "    .dataframe thead th {\n",
       "        text-align: right;\n",
       "    }\n",
       "</style>\n",
       "<table border=\"1\" class=\"dataframe\">\n",
       "  <thead>\n",
       "    <tr style=\"text-align: right;\">\n",
       "      <th></th>\n",
       "      <th>tweet_id</th>\n",
       "      <th>img_num</th>\n",
       "      <th>p1_conf</th>\n",
       "      <th>p2_conf</th>\n",
       "      <th>p3_conf</th>\n",
       "    </tr>\n",
       "  </thead>\n",
       "  <tbody>\n",
       "    <tr>\n",
       "      <th>count</th>\n",
       "      <td>2.075000e+03</td>\n",
       "      <td>2075.000000</td>\n",
       "      <td>2075.000000</td>\n",
       "      <td>2.075000e+03</td>\n",
       "      <td>2.075000e+03</td>\n",
       "    </tr>\n",
       "    <tr>\n",
       "      <th>mean</th>\n",
       "      <td>7.384514e+17</td>\n",
       "      <td>1.203855</td>\n",
       "      <td>0.594548</td>\n",
       "      <td>1.345886e-01</td>\n",
       "      <td>6.032417e-02</td>\n",
       "    </tr>\n",
       "    <tr>\n",
       "      <th>std</th>\n",
       "      <td>6.785203e+16</td>\n",
       "      <td>0.561875</td>\n",
       "      <td>0.271174</td>\n",
       "      <td>1.006657e-01</td>\n",
       "      <td>5.090593e-02</td>\n",
       "    </tr>\n",
       "    <tr>\n",
       "      <th>min</th>\n",
       "      <td>6.660209e+17</td>\n",
       "      <td>1.000000</td>\n",
       "      <td>0.044333</td>\n",
       "      <td>1.011300e-08</td>\n",
       "      <td>1.740170e-10</td>\n",
       "    </tr>\n",
       "    <tr>\n",
       "      <th>25%</th>\n",
       "      <td>6.764835e+17</td>\n",
       "      <td>1.000000</td>\n",
       "      <td>0.364412</td>\n",
       "      <td>5.388625e-02</td>\n",
       "      <td>1.622240e-02</td>\n",
       "    </tr>\n",
       "    <tr>\n",
       "      <th>50%</th>\n",
       "      <td>7.119988e+17</td>\n",
       "      <td>1.000000</td>\n",
       "      <td>0.588230</td>\n",
       "      <td>1.181810e-01</td>\n",
       "      <td>4.944380e-02</td>\n",
       "    </tr>\n",
       "    <tr>\n",
       "      <th>75%</th>\n",
       "      <td>7.932034e+17</td>\n",
       "      <td>1.000000</td>\n",
       "      <td>0.843855</td>\n",
       "      <td>1.955655e-01</td>\n",
       "      <td>9.180755e-02</td>\n",
       "    </tr>\n",
       "    <tr>\n",
       "      <th>max</th>\n",
       "      <td>8.924206e+17</td>\n",
       "      <td>4.000000</td>\n",
       "      <td>1.000000</td>\n",
       "      <td>4.880140e-01</td>\n",
       "      <td>2.734190e-01</td>\n",
       "    </tr>\n",
       "  </tbody>\n",
       "</table>\n",
       "</div>"
      ],
      "text/plain": [
       "           tweet_id      img_num      p1_conf       p2_conf       p3_conf\n",
       "count  2.075000e+03  2075.000000  2075.000000  2.075000e+03  2.075000e+03\n",
       "mean   7.384514e+17     1.203855     0.594548  1.345886e-01  6.032417e-02\n",
       "std    6.785203e+16     0.561875     0.271174  1.006657e-01  5.090593e-02\n",
       "min    6.660209e+17     1.000000     0.044333  1.011300e-08  1.740170e-10\n",
       "25%    6.764835e+17     1.000000     0.364412  5.388625e-02  1.622240e-02\n",
       "50%    7.119988e+17     1.000000     0.588230  1.181810e-01  4.944380e-02\n",
       "75%    7.932034e+17     1.000000     0.843855  1.955655e-01  9.180755e-02\n",
       "max    8.924206e+17     4.000000     1.000000  4.880140e-01  2.734190e-01"
      ]
     },
     "execution_count": 10,
     "metadata": {},
     "output_type": "execute_result"
    }
   ],
   "source": [
    "img_predictions.describe()"
   ]
  },
  {
   "cell_type": "code",
   "execution_count": 11,
   "metadata": {},
   "outputs": [
    {
     "data": {
      "text/html": [
       "<div>\n",
       "<style scoped>\n",
       "    .dataframe tbody tr th:only-of-type {\n",
       "        vertical-align: middle;\n",
       "    }\n",
       "\n",
       "    .dataframe tbody tr th {\n",
       "        vertical-align: top;\n",
       "    }\n",
       "\n",
       "    .dataframe thead th {\n",
       "        text-align: right;\n",
       "    }\n",
       "</style>\n",
       "<table border=\"1\" class=\"dataframe\">\n",
       "  <thead>\n",
       "    <tr style=\"text-align: right;\">\n",
       "      <th></th>\n",
       "      <th>tweet_id</th>\n",
       "      <th>jpg_url</th>\n",
       "      <th>img_num</th>\n",
       "      <th>p1</th>\n",
       "      <th>p1_conf</th>\n",
       "      <th>p1_dog</th>\n",
       "      <th>p2</th>\n",
       "      <th>p2_conf</th>\n",
       "      <th>p2_dog</th>\n",
       "      <th>p3</th>\n",
       "      <th>p3_conf</th>\n",
       "      <th>p3_dog</th>\n",
       "    </tr>\n",
       "  </thead>\n",
       "  <tbody>\n",
       "    <tr>\n",
       "      <th>1035</th>\n",
       "      <td>711743778164514816</td>\n",
       "      <td>https://pbs.twimg.com/media/CeCfMPDW0AAAEUj.jpg</td>\n",
       "      <td>1</td>\n",
       "      <td>Lakeland_terrier</td>\n",
       "      <td>0.459515</td>\n",
       "      <td>True</td>\n",
       "      <td>miniature_poodle</td>\n",
       "      <td>0.219661</td>\n",
       "      <td>True</td>\n",
       "      <td>standard_poodle</td>\n",
       "      <td>0.130189</td>\n",
       "      <td>True</td>\n",
       "    </tr>\n",
       "    <tr>\n",
       "      <th>67</th>\n",
       "      <td>667177989038297088</td>\n",
       "      <td>https://pbs.twimg.com/media/CUJK18UWEAEg7AR.jpg</td>\n",
       "      <td>1</td>\n",
       "      <td>vizsla</td>\n",
       "      <td>0.259249</td>\n",
       "      <td>True</td>\n",
       "      <td>Chesapeake_Bay_retriever</td>\n",
       "      <td>0.176293</td>\n",
       "      <td>True</td>\n",
       "      <td>Weimaraner</td>\n",
       "      <td>0.112369</td>\n",
       "      <td>True</td>\n",
       "    </tr>\n",
       "    <tr>\n",
       "      <th>1505</th>\n",
       "      <td>785264754247995392</td>\n",
       "      <td>https://pbs.twimg.com/media/CuXSHNnWcAIWEwn.jpg</td>\n",
       "      <td>1</td>\n",
       "      <td>teddy</td>\n",
       "      <td>0.674893</td>\n",
       "      <td>False</td>\n",
       "      <td>cradle</td>\n",
       "      <td>0.056740</td>\n",
       "      <td>False</td>\n",
       "      <td>chow</td>\n",
       "      <td>0.056137</td>\n",
       "      <td>True</td>\n",
       "    </tr>\n",
       "    <tr>\n",
       "      <th>1904</th>\n",
       "      <td>852189679701164033</td>\n",
       "      <td>https://pbs.twimg.com/media/C9OV99SXsAEmj1U.jpg</td>\n",
       "      <td>1</td>\n",
       "      <td>barrow</td>\n",
       "      <td>0.423150</td>\n",
       "      <td>False</td>\n",
       "      <td>Bernese_mountain_dog</td>\n",
       "      <td>0.415374</td>\n",
       "      <td>True</td>\n",
       "      <td>EntleBucher</td>\n",
       "      <td>0.067345</td>\n",
       "      <td>True</td>\n",
       "    </tr>\n",
       "    <tr>\n",
       "      <th>437</th>\n",
       "      <td>674416750885273600</td>\n",
       "      <td>https://pbs.twimg.com/media/CVwCdCFW4AUHY4D.jpg</td>\n",
       "      <td>1</td>\n",
       "      <td>Chihuahua</td>\n",
       "      <td>0.287201</td>\n",
       "      <td>True</td>\n",
       "      <td>Boston_bull</td>\n",
       "      <td>0.250920</td>\n",
       "      <td>True</td>\n",
       "      <td>whippet</td>\n",
       "      <td>0.141012</td>\n",
       "      <td>True</td>\n",
       "    </tr>\n",
       "    <tr>\n",
       "      <th>204</th>\n",
       "      <td>669753178989142016</td>\n",
       "      <td>https://pbs.twimg.com/media/CUtw9SAVEAAtFUN.jpg</td>\n",
       "      <td>1</td>\n",
       "      <td>Pembroke</td>\n",
       "      <td>0.858494</td>\n",
       "      <td>True</td>\n",
       "      <td>hamster</td>\n",
       "      <td>0.026319</td>\n",
       "      <td>False</td>\n",
       "      <td>Shetland_sheepdog</td>\n",
       "      <td>0.022405</td>\n",
       "      <td>True</td>\n",
       "    </tr>\n",
       "    <tr>\n",
       "      <th>1366</th>\n",
       "      <td>761672994376806400</td>\n",
       "      <td>https://pbs.twimg.com/ext_tw_video_thumb/76167...</td>\n",
       "      <td>1</td>\n",
       "      <td>gondola</td>\n",
       "      <td>0.318851</td>\n",
       "      <td>False</td>\n",
       "      <td>sea_lion</td>\n",
       "      <td>0.306525</td>\n",
       "      <td>False</td>\n",
       "      <td>pool_table</td>\n",
       "      <td>0.111565</td>\n",
       "      <td>False</td>\n",
       "    </tr>\n",
       "    <tr>\n",
       "      <th>658</th>\n",
       "      <td>682389078323662849</td>\n",
       "      <td>https://pbs.twimg.com/media/CXhVKtvW8AAyiyK.jpg</td>\n",
       "      <td>1</td>\n",
       "      <td>curly-coated_retriever</td>\n",
       "      <td>0.482288</td>\n",
       "      <td>True</td>\n",
       "      <td>flat-coated_retriever</td>\n",
       "      <td>0.315286</td>\n",
       "      <td>True</td>\n",
       "      <td>Great_Dane</td>\n",
       "      <td>0.062179</td>\n",
       "      <td>True</td>\n",
       "    </tr>\n",
       "    <tr>\n",
       "      <th>626</th>\n",
       "      <td>680801747103793152</td>\n",
       "      <td>https://pbs.twimg.com/media/CXKxkseW8AAjAMY.jpg</td>\n",
       "      <td>1</td>\n",
       "      <td>pug</td>\n",
       "      <td>0.996720</td>\n",
       "      <td>True</td>\n",
       "      <td>Labrador_retriever</td>\n",
       "      <td>0.001439</td>\n",
       "      <td>True</td>\n",
       "      <td>Staffordshire_bullterrier</td>\n",
       "      <td>0.000518</td>\n",
       "      <td>True</td>\n",
       "    </tr>\n",
       "    <tr>\n",
       "      <th>1338</th>\n",
       "      <td>758467244762497024</td>\n",
       "      <td>https://pbs.twimg.com/ext_tw_video_thumb/75846...</td>\n",
       "      <td>1</td>\n",
       "      <td>Labrador_retriever</td>\n",
       "      <td>0.436377</td>\n",
       "      <td>True</td>\n",
       "      <td>Chihuahua</td>\n",
       "      <td>0.113956</td>\n",
       "      <td>True</td>\n",
       "      <td>American_Staffordshire_terrier</td>\n",
       "      <td>0.099689</td>\n",
       "      <td>True</td>\n",
       "    </tr>\n",
       "    <tr>\n",
       "      <th>1359</th>\n",
       "      <td>760893934457552897</td>\n",
       "      <td>https://pbs.twimg.com/media/Co88_ujWEAErCg7.jpg</td>\n",
       "      <td>1</td>\n",
       "      <td>Blenheim_spaniel</td>\n",
       "      <td>0.113992</td>\n",
       "      <td>True</td>\n",
       "      <td>cocker_spaniel</td>\n",
       "      <td>0.105780</td>\n",
       "      <td>True</td>\n",
       "      <td>borzoi</td>\n",
       "      <td>0.073935</td>\n",
       "      <td>True</td>\n",
       "    </tr>\n",
       "    <tr>\n",
       "      <th>1363</th>\n",
       "      <td>761334018830917632</td>\n",
       "      <td>https://pbs.twimg.com/media/CpDNQGkWEAENiYZ.jpg</td>\n",
       "      <td>1</td>\n",
       "      <td>Norwegian_elkhound</td>\n",
       "      <td>0.822936</td>\n",
       "      <td>True</td>\n",
       "      <td>malinois</td>\n",
       "      <td>0.086152</td>\n",
       "      <td>True</td>\n",
       "      <td>German_shepherd</td>\n",
       "      <td>0.063333</td>\n",
       "      <td>True</td>\n",
       "    </tr>\n",
       "    <tr>\n",
       "      <th>278</th>\n",
       "      <td>670995969505435648</td>\n",
       "      <td>https://pbs.twimg.com/media/CU_bRIEWcAAUVC7.jpg</td>\n",
       "      <td>1</td>\n",
       "      <td>redbone</td>\n",
       "      <td>0.866221</td>\n",
       "      <td>True</td>\n",
       "      <td>beagle</td>\n",
       "      <td>0.061194</td>\n",
       "      <td>True</td>\n",
       "      <td>Rhodesian_ridgeback</td>\n",
       "      <td>0.024285</td>\n",
       "      <td>True</td>\n",
       "    </tr>\n",
       "    <tr>\n",
       "      <th>1346</th>\n",
       "      <td>759197388317847553</td>\n",
       "      <td>https://pbs.twimg.com/media/Cok1_sjXgAU3xpp.jpg</td>\n",
       "      <td>1</td>\n",
       "      <td>kuvasz</td>\n",
       "      <td>0.511341</td>\n",
       "      <td>True</td>\n",
       "      <td>golden_retriever</td>\n",
       "      <td>0.076899</td>\n",
       "      <td>True</td>\n",
       "      <td>white_wolf</td>\n",
       "      <td>0.063269</td>\n",
       "      <td>False</td>\n",
       "    </tr>\n",
       "    <tr>\n",
       "      <th>986</th>\n",
       "      <td>707693576495472641</td>\n",
       "      <td>https://pbs.twimg.com/media/CdI7jDnW0AA2dtO.jpg</td>\n",
       "      <td>1</td>\n",
       "      <td>bathtub</td>\n",
       "      <td>0.499525</td>\n",
       "      <td>False</td>\n",
       "      <td>tub</td>\n",
       "      <td>0.488014</td>\n",
       "      <td>False</td>\n",
       "      <td>washbasin</td>\n",
       "      <td>0.009298</td>\n",
       "      <td>False</td>\n",
       "    </tr>\n",
       "    <tr>\n",
       "      <th>1587</th>\n",
       "      <td>798209839306514432</td>\n",
       "      <td>https://pbs.twimg.com/media/CxPPnCYWIAAo_ao.jpg</td>\n",
       "      <td>1</td>\n",
       "      <td>Pekinese</td>\n",
       "      <td>0.524583</td>\n",
       "      <td>True</td>\n",
       "      <td>Shih-Tzu</td>\n",
       "      <td>0.102931</td>\n",
       "      <td>True</td>\n",
       "      <td>Pomeranian</td>\n",
       "      <td>0.097893</td>\n",
       "      <td>True</td>\n",
       "    </tr>\n",
       "    <tr>\n",
       "      <th>2006</th>\n",
       "      <td>877611172832227328</td>\n",
       "      <td>https://pbs.twimg.com/media/DCszHgmW0AAmIpT.jpg</td>\n",
       "      <td>1</td>\n",
       "      <td>Irish_setter</td>\n",
       "      <td>0.364729</td>\n",
       "      <td>True</td>\n",
       "      <td>golden_retriever</td>\n",
       "      <td>0.202907</td>\n",
       "      <td>True</td>\n",
       "      <td>Irish_terrier</td>\n",
       "      <td>0.107473</td>\n",
       "      <td>True</td>\n",
       "    </tr>\n",
       "    <tr>\n",
       "      <th>1630</th>\n",
       "      <td>805487436403003392</td>\n",
       "      <td>https://pbs.twimg.com/media/Cy2qiTxXcAAtQBH.jpg</td>\n",
       "      <td>3</td>\n",
       "      <td>shield</td>\n",
       "      <td>0.587830</td>\n",
       "      <td>False</td>\n",
       "      <td>barrel</td>\n",
       "      <td>0.090180</td>\n",
       "      <td>False</td>\n",
       "      <td>sundial</td>\n",
       "      <td>0.069199</td>\n",
       "      <td>False</td>\n",
       "    </tr>\n",
       "    <tr>\n",
       "      <th>1788</th>\n",
       "      <td>829861396166877184</td>\n",
       "      <td>https://pbs.twimg.com/media/C4RCiIHWYAAwgJM.jpg</td>\n",
       "      <td>1</td>\n",
       "      <td>Border_terrier</td>\n",
       "      <td>0.394486</td>\n",
       "      <td>True</td>\n",
       "      <td>Staffordshire_bullterrier</td>\n",
       "      <td>0.376574</td>\n",
       "      <td>True</td>\n",
       "      <td>American_Staffordshire_terrier</td>\n",
       "      <td>0.031292</td>\n",
       "      <td>True</td>\n",
       "    </tr>\n",
       "    <tr>\n",
       "      <th>774</th>\n",
       "      <td>689623661272240129</td>\n",
       "      <td>https://pbs.twimg.com/media/CZIJD2SWIAMJgNI.jpg</td>\n",
       "      <td>1</td>\n",
       "      <td>toy_poodle</td>\n",
       "      <td>0.279604</td>\n",
       "      <td>True</td>\n",
       "      <td>mashed_potato</td>\n",
       "      <td>0.208564</td>\n",
       "      <td>False</td>\n",
       "      <td>Labrador_retriever</td>\n",
       "      <td>0.077481</td>\n",
       "      <td>True</td>\n",
       "    </tr>\n",
       "  </tbody>\n",
       "</table>\n",
       "</div>"
      ],
      "text/plain": [
       "                tweet_id                                            jpg_url  \\\n",
       "1035  711743778164514816    https://pbs.twimg.com/media/CeCfMPDW0AAAEUj.jpg   \n",
       "67    667177989038297088    https://pbs.twimg.com/media/CUJK18UWEAEg7AR.jpg   \n",
       "1505  785264754247995392    https://pbs.twimg.com/media/CuXSHNnWcAIWEwn.jpg   \n",
       "1904  852189679701164033    https://pbs.twimg.com/media/C9OV99SXsAEmj1U.jpg   \n",
       "437   674416750885273600    https://pbs.twimg.com/media/CVwCdCFW4AUHY4D.jpg   \n",
       "204   669753178989142016    https://pbs.twimg.com/media/CUtw9SAVEAAtFUN.jpg   \n",
       "1366  761672994376806400  https://pbs.twimg.com/ext_tw_video_thumb/76167...   \n",
       "658   682389078323662849    https://pbs.twimg.com/media/CXhVKtvW8AAyiyK.jpg   \n",
       "626   680801747103793152    https://pbs.twimg.com/media/CXKxkseW8AAjAMY.jpg   \n",
       "1338  758467244762497024  https://pbs.twimg.com/ext_tw_video_thumb/75846...   \n",
       "1359  760893934457552897    https://pbs.twimg.com/media/Co88_ujWEAErCg7.jpg   \n",
       "1363  761334018830917632    https://pbs.twimg.com/media/CpDNQGkWEAENiYZ.jpg   \n",
       "278   670995969505435648    https://pbs.twimg.com/media/CU_bRIEWcAAUVC7.jpg   \n",
       "1346  759197388317847553    https://pbs.twimg.com/media/Cok1_sjXgAU3xpp.jpg   \n",
       "986   707693576495472641    https://pbs.twimg.com/media/CdI7jDnW0AA2dtO.jpg   \n",
       "1587  798209839306514432    https://pbs.twimg.com/media/CxPPnCYWIAAo_ao.jpg   \n",
       "2006  877611172832227328    https://pbs.twimg.com/media/DCszHgmW0AAmIpT.jpg   \n",
       "1630  805487436403003392    https://pbs.twimg.com/media/Cy2qiTxXcAAtQBH.jpg   \n",
       "1788  829861396166877184    https://pbs.twimg.com/media/C4RCiIHWYAAwgJM.jpg   \n",
       "774   689623661272240129    https://pbs.twimg.com/media/CZIJD2SWIAMJgNI.jpg   \n",
       "\n",
       "      img_num                      p1   p1_conf  p1_dog  \\\n",
       "1035        1        Lakeland_terrier  0.459515    True   \n",
       "67          1                  vizsla  0.259249    True   \n",
       "1505        1                   teddy  0.674893   False   \n",
       "1904        1                  barrow  0.423150   False   \n",
       "437         1               Chihuahua  0.287201    True   \n",
       "204         1                Pembroke  0.858494    True   \n",
       "1366        1                 gondola  0.318851   False   \n",
       "658         1  curly-coated_retriever  0.482288    True   \n",
       "626         1                     pug  0.996720    True   \n",
       "1338        1      Labrador_retriever  0.436377    True   \n",
       "1359        1        Blenheim_spaniel  0.113992    True   \n",
       "1363        1      Norwegian_elkhound  0.822936    True   \n",
       "278         1                 redbone  0.866221    True   \n",
       "1346        1                  kuvasz  0.511341    True   \n",
       "986         1                 bathtub  0.499525   False   \n",
       "1587        1                Pekinese  0.524583    True   \n",
       "2006        1            Irish_setter  0.364729    True   \n",
       "1630        3                  shield  0.587830   False   \n",
       "1788        1          Border_terrier  0.394486    True   \n",
       "774         1              toy_poodle  0.279604    True   \n",
       "\n",
       "                             p2   p2_conf  p2_dog  \\\n",
       "1035           miniature_poodle  0.219661    True   \n",
       "67     Chesapeake_Bay_retriever  0.176293    True   \n",
       "1505                     cradle  0.056740   False   \n",
       "1904       Bernese_mountain_dog  0.415374    True   \n",
       "437                 Boston_bull  0.250920    True   \n",
       "204                     hamster  0.026319   False   \n",
       "1366                   sea_lion  0.306525   False   \n",
       "658       flat-coated_retriever  0.315286    True   \n",
       "626          Labrador_retriever  0.001439    True   \n",
       "1338                  Chihuahua  0.113956    True   \n",
       "1359             cocker_spaniel  0.105780    True   \n",
       "1363                   malinois  0.086152    True   \n",
       "278                      beagle  0.061194    True   \n",
       "1346           golden_retriever  0.076899    True   \n",
       "986                         tub  0.488014   False   \n",
       "1587                   Shih-Tzu  0.102931    True   \n",
       "2006           golden_retriever  0.202907    True   \n",
       "1630                     barrel  0.090180   False   \n",
       "1788  Staffordshire_bullterrier  0.376574    True   \n",
       "774               mashed_potato  0.208564   False   \n",
       "\n",
       "                                  p3   p3_conf  p3_dog  \n",
       "1035                 standard_poodle  0.130189    True  \n",
       "67                        Weimaraner  0.112369    True  \n",
       "1505                            chow  0.056137    True  \n",
       "1904                     EntleBucher  0.067345    True  \n",
       "437                          whippet  0.141012    True  \n",
       "204                Shetland_sheepdog  0.022405    True  \n",
       "1366                      pool_table  0.111565   False  \n",
       "658                       Great_Dane  0.062179    True  \n",
       "626        Staffordshire_bullterrier  0.000518    True  \n",
       "1338  American_Staffordshire_terrier  0.099689    True  \n",
       "1359                          borzoi  0.073935    True  \n",
       "1363                 German_shepherd  0.063333    True  \n",
       "278              Rhodesian_ridgeback  0.024285    True  \n",
       "1346                      white_wolf  0.063269   False  \n",
       "986                        washbasin  0.009298   False  \n",
       "1587                      Pomeranian  0.097893    True  \n",
       "2006                   Irish_terrier  0.107473    True  \n",
       "1630                         sundial  0.069199   False  \n",
       "1788  American_Staffordshire_terrier  0.031292    True  \n",
       "774               Labrador_retriever  0.077481    True  "
      ]
     },
     "execution_count": 11,
     "metadata": {},
     "output_type": "execute_result"
    }
   ],
   "source": [
    "# dog_names = img_predictions.p3.value_counts()\n",
    "# dog_names_once = dog_names[dog_names==1].index.tolist()\n",
    "# dog_names_once\n",
    "\n",
    "img_predictions.sample(20)"
   ]
  },
  {
   "cell_type": "code",
   "execution_count": 12,
   "metadata": {},
   "outputs": [
    {
     "data": {
      "text/plain": [
       "False    2075\n",
       "Name: tweet_id, dtype: int64"
      ]
     },
     "execution_count": 12,
     "metadata": {},
     "output_type": "execute_result"
    }
   ],
   "source": [
    "img_predictions.tweet_id.duplicated().value_counts()"
   ]
  },
  {
   "cell_type": "code",
   "execution_count": 13,
   "metadata": {},
   "outputs": [
    {
     "data": {
      "text/plain": [
       "False    2009\n",
       "True       66\n",
       "Name: jpg_url, dtype: int64"
      ]
     },
     "execution_count": 13,
     "metadata": {},
     "output_type": "execute_result"
    }
   ],
   "source": [
    "img_predictions.jpg_url.duplicated().value_counts()"
   ]
  },
  {
   "cell_type": "markdown",
   "metadata": {},
   "source": [
    "## Findings from img_predictions dataframe\n",
    "\n",
    "### Quality Issues:\n",
    "\n",
    "#### 1. Keep records which only have dog names in either p1, p2 or p3 i.e. model confirm that the image is of a dog\n",
    "#### 2. jpg_url have duplicates\n",
    "\n",
    "\n",
    "### Tidiness Issues:\n",
    "\n",
    "#### 1. Standardize dog names in p1,p2,p3 in terms of capitalise, removing underscores etc."
   ]
  },
  {
   "cell_type": "markdown",
   "metadata": {},
   "source": [
    "## Assessing tweets_json dataframe"
   ]
  },
  {
   "cell_type": "code",
   "execution_count": 14,
   "metadata": {},
   "outputs": [
    {
     "name": "stdout",
     "output_type": "stream",
     "text": [
      "<class 'pandas.core.frame.DataFrame'>\n",
      "RangeIndex: 2354 entries, 0 to 2353\n",
      "Data columns (total 3 columns):\n",
      "tweet_id          2354 non-null int64\n",
      "retweet_count     2354 non-null int64\n",
      "favorite_count    2354 non-null int64\n",
      "dtypes: int64(3)\n",
      "memory usage: 55.2 KB\n"
     ]
    }
   ],
   "source": [
    "tweets_json.info()"
   ]
  },
  {
   "cell_type": "code",
   "execution_count": 15,
   "metadata": {},
   "outputs": [
    {
     "data": {
      "text/html": [
       "<div>\n",
       "<style scoped>\n",
       "    .dataframe tbody tr th:only-of-type {\n",
       "        vertical-align: middle;\n",
       "    }\n",
       "\n",
       "    .dataframe tbody tr th {\n",
       "        vertical-align: top;\n",
       "    }\n",
       "\n",
       "    .dataframe thead th {\n",
       "        text-align: right;\n",
       "    }\n",
       "</style>\n",
       "<table border=\"1\" class=\"dataframe\">\n",
       "  <thead>\n",
       "    <tr style=\"text-align: right;\">\n",
       "      <th></th>\n",
       "      <th>tweet_id</th>\n",
       "      <th>retweet_count</th>\n",
       "      <th>favorite_count</th>\n",
       "    </tr>\n",
       "  </thead>\n",
       "  <tbody>\n",
       "    <tr>\n",
       "      <th>count</th>\n",
       "      <td>2.354000e+03</td>\n",
       "      <td>2354.000000</td>\n",
       "      <td>2354.000000</td>\n",
       "    </tr>\n",
       "    <tr>\n",
       "      <th>mean</th>\n",
       "      <td>7.426978e+17</td>\n",
       "      <td>3164.797366</td>\n",
       "      <td>8080.968564</td>\n",
       "    </tr>\n",
       "    <tr>\n",
       "      <th>std</th>\n",
       "      <td>6.852812e+16</td>\n",
       "      <td>5284.770364</td>\n",
       "      <td>11814.771334</td>\n",
       "    </tr>\n",
       "    <tr>\n",
       "      <th>min</th>\n",
       "      <td>6.660209e+17</td>\n",
       "      <td>0.000000</td>\n",
       "      <td>0.000000</td>\n",
       "    </tr>\n",
       "    <tr>\n",
       "      <th>25%</th>\n",
       "      <td>6.783975e+17</td>\n",
       "      <td>624.500000</td>\n",
       "      <td>1415.000000</td>\n",
       "    </tr>\n",
       "    <tr>\n",
       "      <th>50%</th>\n",
       "      <td>7.194596e+17</td>\n",
       "      <td>1473.500000</td>\n",
       "      <td>3603.500000</td>\n",
       "    </tr>\n",
       "    <tr>\n",
       "      <th>75%</th>\n",
       "      <td>7.993058e+17</td>\n",
       "      <td>3652.000000</td>\n",
       "      <td>10122.250000</td>\n",
       "    </tr>\n",
       "    <tr>\n",
       "      <th>max</th>\n",
       "      <td>8.924206e+17</td>\n",
       "      <td>79515.000000</td>\n",
       "      <td>132810.000000</td>\n",
       "    </tr>\n",
       "  </tbody>\n",
       "</table>\n",
       "</div>"
      ],
      "text/plain": [
       "           tweet_id  retweet_count  favorite_count\n",
       "count  2.354000e+03    2354.000000     2354.000000\n",
       "mean   7.426978e+17    3164.797366     8080.968564\n",
       "std    6.852812e+16    5284.770364    11814.771334\n",
       "min    6.660209e+17       0.000000        0.000000\n",
       "25%    6.783975e+17     624.500000     1415.000000\n",
       "50%    7.194596e+17    1473.500000     3603.500000\n",
       "75%    7.993058e+17    3652.000000    10122.250000\n",
       "max    8.924206e+17   79515.000000   132810.000000"
      ]
     },
     "execution_count": 15,
     "metadata": {},
     "output_type": "execute_result"
    }
   ],
   "source": [
    "tweets_json.describe()"
   ]
  },
  {
   "cell_type": "code",
   "execution_count": 16,
   "metadata": {},
   "outputs": [
    {
     "data": {
      "text/html": [
       "<div>\n",
       "<style scoped>\n",
       "    .dataframe tbody tr th:only-of-type {\n",
       "        vertical-align: middle;\n",
       "    }\n",
       "\n",
       "    .dataframe tbody tr th {\n",
       "        vertical-align: top;\n",
       "    }\n",
       "\n",
       "    .dataframe thead th {\n",
       "        text-align: right;\n",
       "    }\n",
       "</style>\n",
       "<table border=\"1\" class=\"dataframe\">\n",
       "  <thead>\n",
       "    <tr style=\"text-align: right;\">\n",
       "      <th></th>\n",
       "      <th>tweet_id</th>\n",
       "      <th>retweet_count</th>\n",
       "      <th>favorite_count</th>\n",
       "    </tr>\n",
       "  </thead>\n",
       "  <tbody>\n",
       "    <tr>\n",
       "      <th>2086</th>\n",
       "      <td>670792680469889025</td>\n",
       "      <td>298</td>\n",
       "      <td>889</td>\n",
       "    </tr>\n",
       "    <tr>\n",
       "      <th>1463</th>\n",
       "      <td>694352839993344000</td>\n",
       "      <td>700</td>\n",
       "      <td>2244</td>\n",
       "    </tr>\n",
       "    <tr>\n",
       "      <th>1424</th>\n",
       "      <td>697881462549430272</td>\n",
       "      <td>1337</td>\n",
       "      <td>3313</td>\n",
       "    </tr>\n",
       "    <tr>\n",
       "      <th>1566</th>\n",
       "      <td>687818504314159109</td>\n",
       "      <td>1080</td>\n",
       "      <td>2758</td>\n",
       "    </tr>\n",
       "    <tr>\n",
       "      <th>864</th>\n",
       "      <td>762035686371364864</td>\n",
       "      <td>17919</td>\n",
       "      <td>35400</td>\n",
       "    </tr>\n",
       "    <tr>\n",
       "      <th>1626</th>\n",
       "      <td>684588130326986752</td>\n",
       "      <td>1592</td>\n",
       "      <td>4489</td>\n",
       "    </tr>\n",
       "    <tr>\n",
       "      <th>2019</th>\n",
       "      <td>672082170312290304</td>\n",
       "      <td>402</td>\n",
       "      <td>1003</td>\n",
       "    </tr>\n",
       "    <tr>\n",
       "      <th>975</th>\n",
       "      <td>750011400160841729</td>\n",
       "      <td>1035</td>\n",
       "      <td>3568</td>\n",
       "    </tr>\n",
       "    <tr>\n",
       "      <th>2353</th>\n",
       "      <td>666020888022790149</td>\n",
       "      <td>532</td>\n",
       "      <td>2535</td>\n",
       "    </tr>\n",
       "    <tr>\n",
       "      <th>1232</th>\n",
       "      <td>712717840512598017</td>\n",
       "      <td>5616</td>\n",
       "      <td>13474</td>\n",
       "    </tr>\n",
       "  </tbody>\n",
       "</table>\n",
       "</div>"
      ],
      "text/plain": [
       "                tweet_id  retweet_count  favorite_count\n",
       "2086  670792680469889025            298             889\n",
       "1463  694352839993344000            700            2244\n",
       "1424  697881462549430272           1337            3313\n",
       "1566  687818504314159109           1080            2758\n",
       "864   762035686371364864          17919           35400\n",
       "1626  684588130326986752           1592            4489\n",
       "2019  672082170312290304            402            1003\n",
       "975   750011400160841729           1035            3568\n",
       "2353  666020888022790149            532            2535\n",
       "1232  712717840512598017           5616           13474"
      ]
     },
     "execution_count": 16,
     "metadata": {},
     "output_type": "execute_result"
    }
   ],
   "source": [
    "tweets_json.sample(10)"
   ]
  },
  {
   "cell_type": "code",
   "execution_count": 17,
   "metadata": {},
   "outputs": [
    {
     "data": {
      "text/plain": [
       "False    2354\n",
       "Name: tweet_id, dtype: int64"
      ]
     },
     "execution_count": 17,
     "metadata": {},
     "output_type": "execute_result"
    }
   ],
   "source": [
    "tweets_json.tweet_id.duplicated().value_counts()"
   ]
  },
  {
   "cell_type": "markdown",
   "metadata": {},
   "source": [
    "## Findings from tweets_json dataframe\n",
    "\n",
    "### Tidiness Issues:\n",
    "\n",
    "#### 1. This is an extra dataset, can be joined with tweets_data df"
   ]
  },
  {
   "cell_type": "markdown",
   "metadata": {},
   "source": [
    "#   "
   ]
  },
  {
   "cell_type": "markdown",
   "metadata": {},
   "source": [
    "### Quality issues\n",
    "\n",
    "1. tweets_data dataframe     ---   There are retweets and replied tweets also present in the dataset, since we only need original tweets, we need to remove retweets and replied tweets.\n",
    "\n",
    "2. tweets_data dataframe     ---   Incorrect format of timestamp, it is string but should be timestamp\n",
    " \n",
    "3. tweets_data dataframe     ---   Column 'source' is in anchor tag and is unreadable, extract the source out as text.\n",
    "\n",
    "4. img_predictions dataframe ---   Keep records which only have dog names in either p1, p2 or p3 i.e. model confirm that the image is of a dog\n",
    "\n",
    "5. tweets_data dataframe     ---   rating_denominator should always be 10 but there are other values in the  tweets_data_clean dataframe, Identify the tweets which have values other than 10 and fix the denominator\n",
    "\n",
    "6. tweets_data dataframe     ---   Some tweets have more than 1 dog stage ex: pupper, duggo both as dog stage. Fix it to right dog stage.\n",
    "\n",
    "7. tweets_data dataframe     ---   name column have unrelevant values None, a, the, an\n",
    "\n",
    "8. img_predictions dataframe ---   p1,p2,p3 columns in img_predictions dataframe has inconsistent capitalization and also contain underscores in dog names"
   ]
  },
  {
   "cell_type": "markdown",
   "metadata": {
    "extensions": {
     "jupyter_dashboards": {
      "version": 1,
      "views": {
       "grid_default": {
        "col": 0,
        "height": 7,
        "hidden": false,
        "row": 40,
        "width": 12
       },
       "report_default": {
        "hidden": false
       }
      }
     }
    }
   },
   "source": [
    "### Tidiness issues\n",
    "1. tweets_data dataframe --- Remove extra columns which are no longer needed : in_reply_to_status_id, in_reply_to_user_id, retweeted_status_id , retweeted_status_user_id\n",
    "\n",
    "2. tweets_data dataframe --- doggo, floofer, pupper, puppo should not be 4 columns but value of a single column, something like 'dog_stage'\n",
    "\n",
    "3. No need for 3 separate datasets. All datasets can be merged into a single dataset."
   ]
  },
  {
   "cell_type": "markdown",
   "metadata": {
    "extensions": {
     "jupyter_dashboards": {
      "version": 1,
      "views": {
       "grid_default": {
        "col": 4,
        "height": 4,
        "hidden": false,
        "row": 32,
        "width": 4
       },
       "report_default": {
        "hidden": false
       }
      }
     }
    }
   },
   "source": [
    "## Cleaning Data\n",
    "In this section, clean **all** of the issues you documented while assessing. \n",
    "\n",
    "**Note:** Make a copy of the original data before cleaning. Cleaning includes merging individual pieces of data according to the rules of [tidy data](https://cran.r-project.org/web/packages/tidyr/vignettes/tidy-data.html). The result should be a high-quality and tidy master pandas DataFrame (or DataFrames, if appropriate)."
   ]
  },
  {
   "cell_type": "code",
   "execution_count": 18,
   "metadata": {},
   "outputs": [],
   "source": [
    "# Make copies of original pieces of data\n",
    "\n",
    "\n",
    "tweets_data_clean = tweets_data.copy()\n",
    "img_predictions_clean = img_predictions.copy()\n",
    "tweets_json_clean = tweets_json.copy()\n"
   ]
  },
  {
   "cell_type": "markdown",
   "metadata": {},
   "source": [
    "# QUALITY ISSUES"
   ]
  },
  {
   "cell_type": "markdown",
   "metadata": {},
   "source": [
    "### Issue #1: "
   ]
  },
  {
   "cell_type": "markdown",
   "metadata": {},
   "source": [
    "#### Define: tweets_data dataframe     ---   There are retweets and replied tweets also present in the dataset, since we only need original tweets, we need to remove retweets and replied tweets."
   ]
  },
  {
   "cell_type": "markdown",
   "metadata": {},
   "source": [
    "#### Code: Drop the records where there is a non-null value in columns - retweeted_status_id , in_reply_to_status_id"
   ]
  },
  {
   "cell_type": "code",
   "execution_count": 19,
   "metadata": {},
   "outputs": [],
   "source": [
    "import numpy as np\n",
    "\n",
    "# Drooping retweets and replied tweets\n",
    "\n",
    "tweets_data_clean = tweets_data_clean[tweets_data_clean.retweeted_status_id.isnull()]\n",
    "tweets_data_clean = tweets_data_clean[tweets_data_clean.in_reply_to_status_id.isnull()]"
   ]
  },
  {
   "cell_type": "markdown",
   "metadata": {},
   "source": [
    "#### Test"
   ]
  },
  {
   "cell_type": "code",
   "execution_count": 20,
   "metadata": {},
   "outputs": [
    {
     "data": {
      "text/plain": [
       "(2097, 17)"
      ]
     },
     "execution_count": 20,
     "metadata": {},
     "output_type": "execute_result"
    }
   ],
   "source": [
    "tweets_data_clean.shape\n",
    "\n",
    "# Test passed as records dropped from 2356 to 2097"
   ]
  },
  {
   "cell_type": "markdown",
   "metadata": {},
   "source": [
    "### Issue #2:"
   ]
  },
  {
   "cell_type": "markdown",
   "metadata": {
    "collapsed": true,
    "extensions": {
     "jupyter_dashboards": {
      "version": 1,
      "views": {
       "grid_default": {
        "hidden": true
       },
       "report_default": {
        "hidden": true
       }
      }
     }
    }
   },
   "source": [
    "#### Define : tweets_data dataframe     ---   Incorrect format of timestamp, it is string but should be timestamp"
   ]
  },
  {
   "cell_type": "markdown",
   "metadata": {},
   "source": [
    "#### Code : Remove trailing \" +0000\" i.e. last 6 characters and convert to datetime format"
   ]
  },
  {
   "cell_type": "code",
   "execution_count": 21,
   "metadata": {},
   "outputs": [],
   "source": [
    "tweets_data_clean['timestamp']= tweets_data_clean['timestamp'].apply(lambda x : x[:-6])\n",
    "\n",
    "tweets_data_clean['timestamp'] = pd.to_datetime(tweets_data_clean['timestamp'])"
   ]
  },
  {
   "cell_type": "markdown",
   "metadata": {},
   "source": [
    "## Test"
   ]
  },
  {
   "cell_type": "code",
   "execution_count": 22,
   "metadata": {},
   "outputs": [
    {
     "data": {
      "text/plain": [
       "0   2017-08-01 16:23:56\n",
       "1   2017-08-01 00:17:27\n",
       "2   2017-07-31 00:18:03\n",
       "3   2017-07-30 15:58:51\n",
       "4   2017-07-29 16:00:24\n",
       "Name: timestamp, dtype: datetime64[ns]"
      ]
     },
     "execution_count": 22,
     "metadata": {},
     "output_type": "execute_result"
    }
   ],
   "source": [
    "tweets_data_clean['timestamp'].head()"
   ]
  },
  {
   "cell_type": "markdown",
   "metadata": {},
   "source": [
    "## Issue #3. \n",
    "\n",
    "#### Define : tweets_data dataframe   ---   Column 'source' is in anchor tag and is unreadable, extract the source out as text.\n",
    "\n",
    "#### Code: Use split function and pull out the actual text from anchor tag"
   ]
  },
  {
   "cell_type": "code",
   "execution_count": 23,
   "metadata": {},
   "outputs": [
    {
     "data": {
      "text/plain": [
       "<a href=\"http://twitter.com/download/iphone\" rel=\"nofollow\">Twitter for iPhone</a>     1964\n",
       "<a href=\"http://vine.co\" rel=\"nofollow\">Vine - Make a Scene</a>                          91\n",
       "<a href=\"http://twitter.com\" rel=\"nofollow\">Twitter Web Client</a>                       31\n",
       "<a href=\"https://about.twitter.com/products/tweetdeck\" rel=\"nofollow\">TweetDeck</a>      11\n",
       "Name: source, dtype: int64"
      ]
     },
     "execution_count": 23,
     "metadata": {},
     "output_type": "execute_result"
    }
   ],
   "source": [
    "## URL extraction\n",
    "\n",
    "tweets_data_clean.source.value_counts()"
   ]
  },
  {
   "cell_type": "code",
   "execution_count": 24,
   "metadata": {},
   "outputs": [],
   "source": [
    "tweets_data_clean['source']= tweets_data_clean['source'].apply(lambda x : x.split('>')[1][:-3])"
   ]
  },
  {
   "cell_type": "code",
   "execution_count": 25,
   "metadata": {},
   "outputs": [
    {
     "data": {
      "text/plain": [
       "Twitter for iPhone     1964\n",
       "Vine - Make a Scene      91\n",
       "Twitter Web Client       31\n",
       "TweetDeck                11\n",
       "Name: source, dtype: int64"
      ]
     },
     "execution_count": 25,
     "metadata": {},
     "output_type": "execute_result"
    }
   ],
   "source": [
    "tweets_data_clean.source.value_counts()"
   ]
  },
  {
   "cell_type": "markdown",
   "metadata": {},
   "source": [
    "## Issue #4. \n",
    "\n",
    "#### Define : img_predictions dataframe ---   Keep records which only have dog names in either p1, p2 or p3 i.e. model confirm that the image is of a dog.\n",
    "\n",
    "#### Code: Create a list of such tweets which have p1_dog,p2_dog and p3_dog as FALSE and remove these tweets from all three dataframes"
   ]
  },
  {
   "cell_type": "code",
   "execution_count": 26,
   "metadata": {},
   "outputs": [],
   "source": [
    "# Gathering tweets ids those do not have dog images\n",
    "\n",
    "tweets_to_remove = img_predictions_clean[(img_predictions_clean.p1_dog==False) & \n",
    "                      (img_predictions_clean.p2_dog==False) &\n",
    "                      (img_predictions_clean.p3_dog==False)].tweet_id\n"
   ]
  },
  {
   "cell_type": "markdown",
   "metadata": {},
   "source": [
    "Removing above tweet id's fromm all 3 datasets"
   ]
  },
  {
   "cell_type": "code",
   "execution_count": 27,
   "metadata": {},
   "outputs": [],
   "source": [
    "img_predictions_clean = img_predictions_clean[~img_predictions_clean.tweet_id.isin(tweets_to_remove)]"
   ]
  },
  {
   "cell_type": "code",
   "execution_count": 28,
   "metadata": {},
   "outputs": [],
   "source": [
    "tweets_data_clean = tweets_data_clean[~tweets_data_clean.tweet_id.isin(tweets_to_remove)]\n",
    "tweets_json_clean = tweets_json_clean[~tweets_json_clean.tweet_id.isin(tweets_to_remove)]"
   ]
  },
  {
   "cell_type": "code",
   "execution_count": 29,
   "metadata": {},
   "outputs": [
    {
     "name": "stdout",
     "output_type": "stream",
     "text": [
      "(1751, 12)\n",
      "(1792, 17)\n",
      "(2031, 3)\n"
     ]
    }
   ],
   "source": [
    "print(img_predictions_clean.shape)\n",
    "print(tweets_data_clean.shape)\n",
    "print(tweets_json_clean.shape)"
   ]
  },
  {
   "cell_type": "markdown",
   "metadata": {},
   "source": [
    "## Issue #5. \n",
    "\n",
    "#### Define : rating_denominator should always be 10 but there are other values in the tweets_data_clean dataframe, Identify the tweets which have values other than 10 and fix the denominator\n",
    "\n",
    "#### Code: Create a list with contains the wrong denomiantors (other than 10) and then fetch the tweets with those denominators. If there are handful of tweets, Fix the ratings individually upon reading the tweets."
   ]
  },
  {
   "cell_type": "code",
   "execution_count": 30,
   "metadata": {},
   "outputs": [
    {
     "data": {
      "text/plain": [
       "[50, 80, 11, 150, 120, 110, 90, 70, 40, 20, 7, 2]"
      ]
     },
     "execution_count": 30,
     "metadata": {},
     "output_type": "execute_result"
    }
   ],
   "source": [
    "list_of_wrong_deno_rating = tweets_data_clean['rating_denominator'].value_counts()\n",
    "list_of_wrong_deno_rating = list(list_of_wrong_deno_rating.index)\n",
    "list_of_wrong_deno_rating.remove(10)\n",
    "list_of_wrong_deno_rating"
   ]
  },
  {
   "cell_type": "code",
   "execution_count": 31,
   "metadata": {},
   "outputs": [
    {
     "data": {
      "text/html": [
       "<div>\n",
       "<style scoped>\n",
       "    .dataframe tbody tr th:only-of-type {\n",
       "        vertical-align: middle;\n",
       "    }\n",
       "\n",
       "    .dataframe tbody tr th {\n",
       "        vertical-align: top;\n",
       "    }\n",
       "\n",
       "    .dataframe thead th {\n",
       "        text-align: right;\n",
       "    }\n",
       "</style>\n",
       "<table border=\"1\" class=\"dataframe\">\n",
       "  <thead>\n",
       "    <tr style=\"text-align: right;\">\n",
       "      <th></th>\n",
       "      <th>tweet_id</th>\n",
       "      <th>text</th>\n",
       "      <th>rating_numerator</th>\n",
       "      <th>rating_denominator</th>\n",
       "    </tr>\n",
       "  </thead>\n",
       "  <tbody>\n",
       "    <tr>\n",
       "      <th>433</th>\n",
       "      <td>820690176645140481</td>\n",
       "      <td>The floofs have been released I repeat the floofs have been released. 84/70 https://t.co/NIYC820tmd</td>\n",
       "      <td>84</td>\n",
       "      <td>70</td>\n",
       "    </tr>\n",
       "    <tr>\n",
       "      <th>516</th>\n",
       "      <td>810984652412424192</td>\n",
       "      <td>Meet Sam. She smiles 24/7 &amp;amp; secretly aspires to be a reindeer. \\nKeep Sam smiling by clicking and sharing this link:\\nhttps://t.co/98tB8y7y7t https://t.co/LouL5vdvxx</td>\n",
       "      <td>24</td>\n",
       "      <td>7</td>\n",
       "    </tr>\n",
       "    <tr>\n",
       "      <th>902</th>\n",
       "      <td>758467244762497024</td>\n",
       "      <td>Why does this never happen at my front door... 165/150 https://t.co/HmwrdfEfUE</td>\n",
       "      <td>165</td>\n",
       "      <td>150</td>\n",
       "    </tr>\n",
       "    <tr>\n",
       "      <th>1068</th>\n",
       "      <td>740373189193256964</td>\n",
       "      <td>After so many requests, this is Bretagne. She was the last surviving 9/11 search dog, and our second ever 14/10. RIP https://t.co/XAVDNDaVgQ</td>\n",
       "      <td>9</td>\n",
       "      <td>11</td>\n",
       "    </tr>\n",
       "    <tr>\n",
       "      <th>1165</th>\n",
       "      <td>722974582966214656</td>\n",
       "      <td>Happy 4/20 from the squad! 13/10 for all https://t.co/eV1diwds8a</td>\n",
       "      <td>4</td>\n",
       "      <td>20</td>\n",
       "    </tr>\n",
       "    <tr>\n",
       "      <th>1202</th>\n",
       "      <td>716439118184652801</td>\n",
       "      <td>This is Bluebert. He just saw that both #FinalFur match ups are split 50/50. Amazed af. 11/10 https://t.co/Kky1DPG4iq</td>\n",
       "      <td>50</td>\n",
       "      <td>50</td>\n",
       "    </tr>\n",
       "    <tr>\n",
       "      <th>1228</th>\n",
       "      <td>713900603437621249</td>\n",
       "      <td>Happy Saturday here's 9 puppers on a bench. 99/90 good work everybody https://t.co/mpvaVxKmc1</td>\n",
       "      <td>99</td>\n",
       "      <td>90</td>\n",
       "    </tr>\n",
       "    <tr>\n",
       "      <th>1254</th>\n",
       "      <td>710658690886586372</td>\n",
       "      <td>Here's a brigade of puppers. All look very prepared for whatever happens next. 80/80 https://t.co/0eb7R1Om12</td>\n",
       "      <td>80</td>\n",
       "      <td>80</td>\n",
       "    </tr>\n",
       "    <tr>\n",
       "      <th>1274</th>\n",
       "      <td>709198395643068416</td>\n",
       "      <td>From left to right:\\nCletus, Jerome, Alejandro, Burp, &amp;amp; Titson\\nNone know where camera is. 45/50 would hug all at once https://t.co/sedre1ivTK</td>\n",
       "      <td>45</td>\n",
       "      <td>50</td>\n",
       "    </tr>\n",
       "    <tr>\n",
       "      <th>1351</th>\n",
       "      <td>704054845121142784</td>\n",
       "      <td>Here is a whole flock of puppers.  60/50 I'll take the lot https://t.co/9dpcw6MdWa</td>\n",
       "      <td>60</td>\n",
       "      <td>50</td>\n",
       "    </tr>\n",
       "    <tr>\n",
       "      <th>1433</th>\n",
       "      <td>697463031882764288</td>\n",
       "      <td>Happy Wednesday here's a bucket of pups. 44/40 would pet all at once https://t.co/HppvrYuamZ</td>\n",
       "      <td>44</td>\n",
       "      <td>40</td>\n",
       "    </tr>\n",
       "    <tr>\n",
       "      <th>1635</th>\n",
       "      <td>684222868335505415</td>\n",
       "      <td>Someone help the girl is being mugged. Several are distracting her while two steal her shoes. Clever puppers 121/110 https://t.co/1zfnTJLt55</td>\n",
       "      <td>121</td>\n",
       "      <td>110</td>\n",
       "    </tr>\n",
       "    <tr>\n",
       "      <th>1662</th>\n",
       "      <td>682962037429899265</td>\n",
       "      <td>This is Darrel. He just robbed a 7/11 and is in a high speed police chase. Was just spotted by the helicopter 10/10 https://t.co/7EsP8LmSp5</td>\n",
       "      <td>7</td>\n",
       "      <td>11</td>\n",
       "    </tr>\n",
       "    <tr>\n",
       "      <th>1779</th>\n",
       "      <td>677716515794329600</td>\n",
       "      <td>IT'S PUPPERGEDDON. Total of 144/120 ...I think https://t.co/ZanVtAtvIq</td>\n",
       "      <td>144</td>\n",
       "      <td>120</td>\n",
       "    </tr>\n",
       "    <tr>\n",
       "      <th>1843</th>\n",
       "      <td>675853064436391936</td>\n",
       "      <td>Here we have an entire platoon of puppers. Total score: 88/80 would pet all at once https://t.co/y93p6FLvVw</td>\n",
       "      <td>88</td>\n",
       "      <td>80</td>\n",
       "    </tr>\n",
       "    <tr>\n",
       "      <th>2335</th>\n",
       "      <td>666287406224695296</td>\n",
       "      <td>This is an Albanian 3 1/2 legged  Episcopalian. Loves well-polished hardwood flooring. Penis on the collar. 9/10 https://t.co/d9NcXFKwLv</td>\n",
       "      <td>1</td>\n",
       "      <td>2</td>\n",
       "    </tr>\n",
       "  </tbody>\n",
       "</table>\n",
       "</div>"
      ],
      "text/plain": [
       "                tweet_id  \\\n",
       "433   820690176645140481   \n",
       "516   810984652412424192   \n",
       "902   758467244762497024   \n",
       "1068  740373189193256964   \n",
       "1165  722974582966214656   \n",
       "1202  716439118184652801   \n",
       "1228  713900603437621249   \n",
       "1254  710658690886586372   \n",
       "1274  709198395643068416   \n",
       "1351  704054845121142784   \n",
       "1433  697463031882764288   \n",
       "1635  684222868335505415   \n",
       "1662  682962037429899265   \n",
       "1779  677716515794329600   \n",
       "1843  675853064436391936   \n",
       "2335  666287406224695296   \n",
       "\n",
       "                                                                                                                                                                           text  \\\n",
       "433   The floofs have been released I repeat the floofs have been released. 84/70 https://t.co/NIYC820tmd                                                                         \n",
       "516   Meet Sam. She smiles 24/7 &amp; secretly aspires to be a reindeer. \\nKeep Sam smiling by clicking and sharing this link:\\nhttps://t.co/98tB8y7y7t https://t.co/LouL5vdvxx   \n",
       "902   Why does this never happen at my front door... 165/150 https://t.co/HmwrdfEfUE                                                                                              \n",
       "1068  After so many requests, this is Bretagne. She was the last surviving 9/11 search dog, and our second ever 14/10. RIP https://t.co/XAVDNDaVgQ                                \n",
       "1165  Happy 4/20 from the squad! 13/10 for all https://t.co/eV1diwds8a                                                                                                            \n",
       "1202  This is Bluebert. He just saw that both #FinalFur match ups are split 50/50. Amazed af. 11/10 https://t.co/Kky1DPG4iq                                                       \n",
       "1228  Happy Saturday here's 9 puppers on a bench. 99/90 good work everybody https://t.co/mpvaVxKmc1                                                                               \n",
       "1254  Here's a brigade of puppers. All look very prepared for whatever happens next. 80/80 https://t.co/0eb7R1Om12                                                                \n",
       "1274  From left to right:\\nCletus, Jerome, Alejandro, Burp, &amp; Titson\\nNone know where camera is. 45/50 would hug all at once https://t.co/sedre1ivTK                          \n",
       "1351  Here is a whole flock of puppers.  60/50 I'll take the lot https://t.co/9dpcw6MdWa                                                                                          \n",
       "1433  Happy Wednesday here's a bucket of pups. 44/40 would pet all at once https://t.co/HppvrYuamZ                                                                                \n",
       "1635  Someone help the girl is being mugged. Several are distracting her while two steal her shoes. Clever puppers 121/110 https://t.co/1zfnTJLt55                                \n",
       "1662  This is Darrel. He just robbed a 7/11 and is in a high speed police chase. Was just spotted by the helicopter 10/10 https://t.co/7EsP8LmSp5                                 \n",
       "1779  IT'S PUPPERGEDDON. Total of 144/120 ...I think https://t.co/ZanVtAtvIq                                                                                                      \n",
       "1843  Here we have an entire platoon of puppers. Total score: 88/80 would pet all at once https://t.co/y93p6FLvVw                                                                 \n",
       "2335  This is an Albanian 3 1/2 legged  Episcopalian. Loves well-polished hardwood flooring. Penis on the collar. 9/10 https://t.co/d9NcXFKwLv                                    \n",
       "\n",
       "      rating_numerator  rating_denominator  \n",
       "433   84                70                  \n",
       "516   24                7                   \n",
       "902   165               150                 \n",
       "1068  9                 11                  \n",
       "1165  4                 20                  \n",
       "1202  50                50                  \n",
       "1228  99                90                  \n",
       "1254  80                80                  \n",
       "1274  45                50                  \n",
       "1351  60                50                  \n",
       "1433  44                40                  \n",
       "1635  121               110                 \n",
       "1662  7                 11                  \n",
       "1779  144               120                 \n",
       "1843  88                80                  \n",
       "2335  1                 2                   "
      ]
     },
     "execution_count": 31,
     "metadata": {},
     "output_type": "execute_result"
    }
   ],
   "source": [
    "pd.set_option('display.max_colwidth', -1)\n",
    "\n",
    "tweets_data_clean[(tweets_data_clean.rating_denominator.isin(list_of_wrong_deno_rating))][['tweet_id', 'text', 'rating_numerator', 'rating_denominator']]\n"
   ]
  },
  {
   "cell_type": "code",
   "execution_count": 32,
   "metadata": {},
   "outputs": [],
   "source": [
    "# Most of the abnormal ratings are associated with multiple dogs,\n",
    "# so correct them manually and the tweets with no rating will be assinged a 10 rating.\n",
    "\n",
    "# tweet_id: 666287406224695296\n",
    "tweets_data_clean.loc[tweets_data_clean.tweet_id == 666287406224695296, 'rating_numerator'] = 9\n",
    "tweets_data_clean.loc[tweets_data_clean.tweet_id == 666287406224695296, 'rating_denominator'] = 10\n",
    "\n",
    "# tweet_id: 697463031882764288 --- Multiple dogs\n",
    "tweets_data_clean.loc[tweets_data_clean.tweet_id == 697463031882764288, 'rating_numerator'] = 11\n",
    "tweets_data_clean.loc[tweets_data_clean.tweet_id == 697463031882764288, 'rating_denominator'] = 10\n",
    "\n",
    "# tweet_id: 684222868335505415 --- Multiple dogs\n",
    "tweets_data_clean.loc[tweets_data_clean.tweet_id == 684222868335505415, 'rating_numerator'] = 11\n",
    "tweets_data_clean.loc[tweets_data_clean.tweet_id == 684222868335505415, 'rating_denominator'] = 10\n",
    "\n",
    "# tweet_id: 682962037429899265 \n",
    "tweets_data_clean.loc[tweets_data_clean.tweet_id == 682962037429899265, 'rating_numerator'] = 10\n",
    "tweets_data_clean.loc[tweets_data_clean.tweet_id == 682962037429899265, 'rating_denominator'] = 10\n",
    "\n",
    "# tweet_id: 710658690886586372 --- Multiple dogs\n",
    "tweets_data_clean.loc[tweets_data_clean.tweet_id == 710658690886586372, 'rating_numerator'] = 10\n",
    "tweets_data_clean.loc[tweets_data_clean.tweet_id == 710658690886586372, 'rating_denominator'] = 10\n",
    "\n",
    "# tweet_id: 713900603437621249 --- Multiple dogs\n",
    "tweets_data_clean.loc[tweets_data_clean.tweet_id == 713900603437621249, 'rating_numerator'] = 11\n",
    "tweets_data_clean.loc[tweets_data_clean.tweet_id == 713900603437621249, 'rating_denominator'] = 10\n",
    "\n",
    "# tweet_id: 709198395643068416 --- Multiple dogs\n",
    "tweets_data_clean.loc[tweets_data_clean.tweet_id == 709198395643068416, 'rating_numerator'] = 9\n",
    "tweets_data_clean.loc[tweets_data_clean.tweet_id == 709198395643068416, 'rating_denominator'] = 10\n",
    "\n",
    "# tweet_id: 722974582966214656 --- Correct rating is 13/10\n",
    "tweets_data_clean.loc[tweets_data_clean.tweet_id == 722974582966214656, 'rating_numerator'] = 13\n",
    "tweets_data_clean.loc[tweets_data_clean.tweet_id == 722974582966214656, 'rating_denominator'] = 10\n",
    "\n",
    "# tweet_id: 716439118184652801\n",
    "tweets_data_clean.loc[tweets_data_clean.tweet_id == 716439118184652801, 'rating_numerator'] = 11\n",
    "tweets_data_clean.loc[tweets_data_clean.tweet_id == 716439118184652801, 'rating_denominator'] = 10\n",
    "\n",
    "# tweet_id: 704054845121142784 --- Multiple dogs\n",
    "tweets_data_clean.loc[tweets_data_clean.tweet_id == 704054845121142784, 'rating_numerator'] = 12\n",
    "tweets_data_clean.loc[tweets_data_clean.tweet_id == 704054845121142784, 'rating_denominator'] = 10\n",
    "\n",
    "# tweet_id: 677716515794329600 --- Multiple dogs\n",
    "tweets_data_clean.loc[tweets_data_clean.tweet_id == 677716515794329600, 'rating_numerator'] = 12\n",
    "tweets_data_clean.loc[tweets_data_clean.tweet_id == 677716515794329600, 'rating_denominator'] = 10\n",
    "\n",
    "# tweet_id: 675853064436391936 --- Multiple dogs\n",
    "tweets_data_clean.loc[tweets_data_clean.tweet_id == 675853064436391936, 'rating_numerator'] = 11\n",
    "tweets_data_clean.loc[tweets_data_clean.tweet_id == 675853064436391936, 'rating_denominator'] = 10\n",
    "\n",
    "# tweet_id: 810984652412424192  no rating\n",
    "tweets_data_clean.loc[tweets_data_clean.tweet_id == 810984652412424192, 'rating_numerator'] = 10\n",
    "tweets_data_clean.loc[tweets_data_clean.tweet_id == 810984652412424192, 'rating_denominator'] = 10\n",
    "\n",
    "# tweet_id: 820690176645140481 --- Multiple dogs\n",
    "tweets_data_clean.loc[tweets_data_clean.tweet_id == 820690176645140481, 'rating_numerator'] = 12\n",
    "tweets_data_clean.loc[tweets_data_clean.tweet_id == 820690176645140481, 'rating_denominator'] = 10\n",
    "\n",
    "# tweet_id: 758467244762497024 --- Multiple dogs\n",
    "tweets_data_clean.loc[tweets_data_clean.tweet_id == 758467244762497024, 'rating_numerator'] = 11\n",
    "tweets_data_clean.loc[tweets_data_clean.tweet_id == 758467244762497024, 'rating_denominator'] = 10\n",
    "\n",
    "# tweet_id: 740373189193256964 --- Multiple ratings in text, but the correct rating is 14/10\n",
    "tweets_data_clean.loc[tweets_data_clean.tweet_id == 740373189193256964, 'rating_numerator'] = 14\n",
    "tweets_data_clean.loc[tweets_data_clean.tweet_id == 740373189193256964, 'rating_denominator'] = 10"
   ]
  },
  {
   "cell_type": "markdown",
   "metadata": {},
   "source": [
    "### Test"
   ]
  },
  {
   "cell_type": "code",
   "execution_count": 33,
   "metadata": {},
   "outputs": [
    {
     "data": {
      "text/plain": [
       "10    1792\n",
       "Name: rating_denominator, dtype: int64"
      ]
     },
     "execution_count": 33,
     "metadata": {},
     "output_type": "execute_result"
    }
   ],
   "source": [
    "tweets_data_clean.rating_denominator.value_counts()"
   ]
  },
  {
   "cell_type": "markdown",
   "metadata": {},
   "source": [
    "## Issue #6."
   ]
  },
  {
   "cell_type": "markdown",
   "metadata": {},
   "source": [
    "##### Define : tweets_data dataframe --- Some tweets have more than 1 dog stage ex: pupper, duggo both as dog stage. Fix it to right dog stage."
   ]
  },
  {
   "cell_type": "markdown",
   "metadata": {},
   "source": [
    "#### Code : Create a new column called 'combined_stages' but concatenating all four fields and then replace the string 'None' with blank value, so that we can identify the tweets with singlular dog type and multiple dog types easily.\n",
    "#### Replacing '' with 'None' back again for the records which had 'NoneNoneNoneNone' Values\n",
    "#### Upon identifying multiple dog type records, fix it accordingly."
   ]
  },
  {
   "cell_type": "markdown",
   "metadata": {},
   "source": [
    "### Code"
   ]
  },
  {
   "cell_type": "code",
   "execution_count": 34,
   "metadata": {},
   "outputs": [
    {
     "data": {
      "text/plain": [
       "NoneNoneNoneNone        1502\n",
       "NoneNonepupperNone      186 \n",
       "doggoNoneNoneNone       63  \n",
       "NoneNoneNonepuppo       22  \n",
       "NoneflooferNoneNone     9   \n",
       "doggoNonepupperNone     8   \n",
       "doggoflooferNoneNone    1   \n",
       "doggoNoneNonepuppo      1   \n",
       "Name: combined_stages, dtype: int64"
      ]
     },
     "execution_count": 34,
     "metadata": {},
     "output_type": "execute_result"
    }
   ],
   "source": [
    "tweets_data_clean['combined_stages'] = tweets_data_clean.doggo + tweets_data_clean.floofer + tweets_data_clean.pupper + tweets_data_clean.puppo\n",
    "\n",
    "tweets_data_clean.combined_stages.value_counts()"
   ]
  },
  {
   "cell_type": "code",
   "execution_count": 35,
   "metadata": {},
   "outputs": [
    {
     "data": {
      "text/plain": [
       "None            1502\n",
       "pupper          186 \n",
       "doggo           63  \n",
       "puppo           22  \n",
       "floofer         9   \n",
       "doggopupper     8   \n",
       "doggofloofer    1   \n",
       "doggopuppo      1   \n",
       "Name: combined_stages, dtype: int64"
      ]
     },
     "execution_count": 35,
     "metadata": {},
     "output_type": "execute_result"
    }
   ],
   "source": [
    "# Replacing 'None' with '' so that we can identify the singlular dog type and multiple dog types easily\n",
    "\n",
    "tweets_data_clean['combined_stages']= tweets_data_clean['combined_stages'].apply(lambda x : x.replace('None',''))\n",
    "\n",
    "# Replacing '' with 'None' back again for the records which had 'NoneNoneNoneNone' Values\n",
    "\n",
    "tweets_data_clean['combined_stages']= tweets_data_clean['combined_stages'].apply(lambda x : 'None' if x=='' else x)\n",
    "tweets_data_clean.combined_stages.value_counts()"
   ]
  },
  {
   "cell_type": "code",
   "execution_count": 36,
   "metadata": {},
   "outputs": [
    {
     "data": {
      "text/html": [
       "<div>\n",
       "<style scoped>\n",
       "    .dataframe tbody tr th:only-of-type {\n",
       "        vertical-align: middle;\n",
       "    }\n",
       "\n",
       "    .dataframe tbody tr th {\n",
       "        vertical-align: top;\n",
       "    }\n",
       "\n",
       "    .dataframe thead th {\n",
       "        text-align: right;\n",
       "    }\n",
       "</style>\n",
       "<table border=\"1\" class=\"dataframe\">\n",
       "  <thead>\n",
       "    <tr style=\"text-align: right;\">\n",
       "      <th></th>\n",
       "      <th>tweet_id</th>\n",
       "      <th>text</th>\n",
       "    </tr>\n",
       "  </thead>\n",
       "  <tbody>\n",
       "    <tr>\n",
       "      <th>191</th>\n",
       "      <td>855851453814013952</td>\n",
       "      <td>Here's a puppo participating in the #ScienceMarch. Cleverly disguising her own doggo agenda. 13/10 would keep the planet habitable for https://t.co/cMhq16isel</td>\n",
       "    </tr>\n",
       "    <tr>\n",
       "      <th>200</th>\n",
       "      <td>854010172552949760</td>\n",
       "      <td>At first I thought this was a shy doggo, but it's actually a Rare Canadian Floofer Owl. Amateurs would confuse the two. 11/10 only send dogs https://t.co/TXdT3tmuYk</td>\n",
       "    </tr>\n",
       "    <tr>\n",
       "      <th>460</th>\n",
       "      <td>817777686764523521</td>\n",
       "      <td>This is Dido. She's playing the lead role in \"Pupper Stops to Catch Snow Before Resuming Shadow Box with Dried Apple.\" 13/10 (IG: didodoggo) https://t.co/m7isZrOBX7</td>\n",
       "    </tr>\n",
       "    <tr>\n",
       "      <th>531</th>\n",
       "      <td>808106460588765185</td>\n",
       "      <td>Here we have Burke (pupper) and Dexter (doggo). Pupper wants to be exactly like doggo. Both 12/10 would pet at same time https://t.co/ANBpEYHaho</td>\n",
       "    </tr>\n",
       "    <tr>\n",
       "      <th>575</th>\n",
       "      <td>801115127852503040</td>\n",
       "      <td>This is Bones. He's being haunted by another doggo of roughly the same size. 12/10 deep breaths pupper everything's fine https://t.co/55Dqe0SJNj</td>\n",
       "    </tr>\n",
       "    <tr>\n",
       "      <th>733</th>\n",
       "      <td>781308096455073793</td>\n",
       "      <td>Pupper butt 1, Doggo 0. Both 12/10 https://t.co/WQvcPEpH2u</td>\n",
       "    </tr>\n",
       "    <tr>\n",
       "      <th>889</th>\n",
       "      <td>759793422261743616</td>\n",
       "      <td>Meet Maggie &amp;amp; Lila. Maggie is the doggo, Lila is the pupper. They are sisters. Both 12/10 would pet at the same time https://t.co/MYwR4DQKll</td>\n",
       "    </tr>\n",
       "    <tr>\n",
       "      <th>956</th>\n",
       "      <td>751583847268179968</td>\n",
       "      <td>Please stop sending it pictures that don't even have a doggo or pupper in them. Churlish af. 5/10 neat couch tho https://t.co/u2c9c7qSg8</td>\n",
       "    </tr>\n",
       "    <tr>\n",
       "      <th>1063</th>\n",
       "      <td>741067306818797568</td>\n",
       "      <td>This is just downright precious af. 12/10 for both pupper and doggo https://t.co/o5J479bZUC</td>\n",
       "    </tr>\n",
       "    <tr>\n",
       "      <th>1113</th>\n",
       "      <td>733109485275860992</td>\n",
       "      <td>Like father (doggo), like son (pupper). Both 12/10 https://t.co/pG2inLaOda</td>\n",
       "    </tr>\n",
       "  </tbody>\n",
       "</table>\n",
       "</div>"
      ],
      "text/plain": [
       "                tweet_id  \\\n",
       "191   855851453814013952   \n",
       "200   854010172552949760   \n",
       "460   817777686764523521   \n",
       "531   808106460588765185   \n",
       "575   801115127852503040   \n",
       "733   781308096455073793   \n",
       "889   759793422261743616   \n",
       "956   751583847268179968   \n",
       "1063  741067306818797568   \n",
       "1113  733109485275860992   \n",
       "\n",
       "                                                                                                                                                                      text  \n",
       "191   Here's a puppo participating in the #ScienceMarch. Cleverly disguising her own doggo agenda. 13/10 would keep the planet habitable for https://t.co/cMhq16isel        \n",
       "200   At first I thought this was a shy doggo, but it's actually a Rare Canadian Floofer Owl. Amateurs would confuse the two. 11/10 only send dogs https://t.co/TXdT3tmuYk  \n",
       "460   This is Dido. She's playing the lead role in \"Pupper Stops to Catch Snow Before Resuming Shadow Box with Dried Apple.\" 13/10 (IG: didodoggo) https://t.co/m7isZrOBX7  \n",
       "531   Here we have Burke (pupper) and Dexter (doggo). Pupper wants to be exactly like doggo. Both 12/10 would pet at same time https://t.co/ANBpEYHaho                      \n",
       "575   This is Bones. He's being haunted by another doggo of roughly the same size. 12/10 deep breaths pupper everything's fine https://t.co/55Dqe0SJNj                      \n",
       "733   Pupper butt 1, Doggo 0. Both 12/10 https://t.co/WQvcPEpH2u                                                                                                            \n",
       "889   Meet Maggie &amp; Lila. Maggie is the doggo, Lila is the pupper. They are sisters. Both 12/10 would pet at the same time https://t.co/MYwR4DQKll                      \n",
       "956   Please stop sending it pictures that don't even have a doggo or pupper in them. Churlish af. 5/10 neat couch tho https://t.co/u2c9c7qSg8                              \n",
       "1063  This is just downright precious af. 12/10 for both pupper and doggo https://t.co/o5J479bZUC                                                                           \n",
       "1113  Like father (doggo), like son (pupper). Both 12/10 https://t.co/pG2inLaOda                                                                                            "
      ]
     },
     "execution_count": 36,
     "metadata": {},
     "output_type": "execute_result"
    }
   ],
   "source": [
    "tweets_data_clean[(tweets_data_clean.combined_stages.isin(['doggopupper','doggopuppo','doggofloofer']))][['tweet_id', 'text']]"
   ]
  },
  {
   "cell_type": "code",
   "execution_count": 37,
   "metadata": {},
   "outputs": [],
   "source": [
    "# Since by seeing the tweets we cannot decide the dog type,\n",
    "# we will mark dog type (combined_stages) for all above tweets as None\n",
    "\n",
    "tweets_data_clean.loc[tweets_data_clean.tweet_id == 855851453814013952, 'combined_stages'] = 'None'\n",
    "tweets_data_clean.loc[tweets_data_clean.tweet_id == 854010172552949760, 'combined_stages'] = 'None'\n",
    "tweets_data_clean.loc[tweets_data_clean.tweet_id == 817777686764523521, 'combined_stages'] = 'None'\n",
    "tweets_data_clean.loc[tweets_data_clean.tweet_id == 808106460588765185, 'combined_stages'] = 'None'\n",
    "tweets_data_clean.loc[tweets_data_clean.tweet_id == 801115127852503040, 'combined_stages'] = 'None'\n",
    "tweets_data_clean.loc[tweets_data_clean.tweet_id == 781308096455073793, 'combined_stages'] = 'None'\n",
    "tweets_data_clean.loc[tweets_data_clean.tweet_id == 759793422261743616, 'combined_stages'] = 'None'\n",
    "tweets_data_clean.loc[tweets_data_clean.tweet_id == 751583847268179968, 'combined_stages'] = 'None'\n",
    "tweets_data_clean.loc[tweets_data_clean.tweet_id == 741067306818797568, 'combined_stages'] = 'None'\n",
    "tweets_data_clean.loc[tweets_data_clean.tweet_id == 733109485275860992, 'combined_stages'] = 'None'\n"
   ]
  },
  {
   "cell_type": "markdown",
   "metadata": {},
   "source": [
    "### Test"
   ]
  },
  {
   "cell_type": "code",
   "execution_count": 38,
   "metadata": {},
   "outputs": [
    {
     "data": {
      "text/plain": [
       "None       1512\n",
       "pupper     186 \n",
       "doggo      63  \n",
       "puppo      22  \n",
       "floofer    9   \n",
       "Name: combined_stages, dtype: int64"
      ]
     },
     "execution_count": 38,
     "metadata": {},
     "output_type": "execute_result"
    }
   ],
   "source": [
    "tweets_data_clean.combined_stages.value_counts()"
   ]
  },
  {
   "cell_type": "markdown",
   "metadata": {},
   "source": [
    "## Issue #7."
   ]
  },
  {
   "cell_type": "markdown",
   "metadata": {},
   "source": [
    "#### Define: tweets_data dataframe  ---  'name' column have irrelevant values None, a, the, an"
   ]
  },
  {
   "cell_type": "markdown",
   "metadata": {},
   "source": [
    "#### Code: Replace values with NaN where there is irrelevant names - None, a, the, an"
   ]
  },
  {
   "cell_type": "markdown",
   "metadata": {},
   "source": [
    "### Code"
   ]
  },
  {
   "cell_type": "code",
   "execution_count": 39,
   "metadata": {},
   "outputs": [
    {
     "data": {
      "text/plain": [
       "None    479\n",
       "a       46 \n",
       "the     8  \n",
       "an      4  \n",
       "Name: name, dtype: int64"
      ]
     },
     "execution_count": 39,
     "metadata": {},
     "output_type": "execute_result"
    }
   ],
   "source": [
    "tweets_data_clean[tweets_data_clean[\"name\"].isin([\"None\", \"a\", \"the\",\"an\"])][\"name\"].value_counts()"
   ]
  },
  {
   "cell_type": "code",
   "execution_count": 40,
   "metadata": {},
   "outputs": [],
   "source": [
    "tweets_data_clean.loc[tweets_data_clean[\"name\"].isin([\"None\", \"a\", \"the\", \"an\"]), \"name\"] = np.nan"
   ]
  },
  {
   "cell_type": "markdown",
   "metadata": {},
   "source": [
    "### Test\n"
   ]
  },
  {
   "cell_type": "code",
   "execution_count": 41,
   "metadata": {},
   "outputs": [
    {
     "data": {
      "text/plain": [
       "Series([], Name: name, dtype: object)"
      ]
     },
     "execution_count": 41,
     "metadata": {},
     "output_type": "execute_result"
    }
   ],
   "source": [
    "tweets_data_clean[tweets_data_clean[\"name\"].isin([\"None\", \"a\", \"the\",\"an\"])][\"name\"]"
   ]
  },
  {
   "cell_type": "markdown",
   "metadata": {},
   "source": [
    "## Issue #8."
   ]
  },
  {
   "cell_type": "markdown",
   "metadata": {},
   "source": [
    "#### Define : p1,p2,p3 columns in img_predictions_dataframe has inconsistent capitalization and also contain underscores in dog names"
   ]
  },
  {
   "cell_type": "markdown",
   "metadata": {},
   "source": [
    "#### Code : Capitalize the dog names and replace underscores with a single space"
   ]
  },
  {
   "cell_type": "markdown",
   "metadata": {},
   "source": [
    "### Code"
   ]
  },
  {
   "cell_type": "code",
   "execution_count": 42,
   "metadata": {},
   "outputs": [],
   "source": [
    "img_predictions_clean['p1']= img_predictions_clean.p1.str.capitalize()\n",
    "img_predictions_clean['p1']= img_predictions_clean['p1'].apply(lambda x : x.replace('_',' '))\n",
    "\n",
    "img_predictions_clean['p2']= img_predictions_clean.p2.str.capitalize()\n",
    "img_predictions_clean['p2']= img_predictions_clean['p2'].apply(lambda x : x.replace('_',' '))\n",
    "\n",
    "img_predictions_clean['p3']= img_predictions_clean.p3.str.capitalize()\n",
    "img_predictions_clean['p3']= img_predictions_clean['p3'].apply(lambda x : x.replace('_',' '))\n"
   ]
  },
  {
   "cell_type": "markdown",
   "metadata": {},
   "source": [
    "### Test"
   ]
  },
  {
   "cell_type": "code",
   "execution_count": 43,
   "metadata": {},
   "outputs": [
    {
     "data": {
      "text/html": [
       "<div>\n",
       "<style scoped>\n",
       "    .dataframe tbody tr th:only-of-type {\n",
       "        vertical-align: middle;\n",
       "    }\n",
       "\n",
       "    .dataframe tbody tr th {\n",
       "        vertical-align: top;\n",
       "    }\n",
       "\n",
       "    .dataframe thead th {\n",
       "        text-align: right;\n",
       "    }\n",
       "</style>\n",
       "<table border=\"1\" class=\"dataframe\">\n",
       "  <thead>\n",
       "    <tr style=\"text-align: right;\">\n",
       "      <th></th>\n",
       "      <th>p1</th>\n",
       "      <th>p2</th>\n",
       "      <th>p3</th>\n",
       "    </tr>\n",
       "  </thead>\n",
       "  <tbody>\n",
       "    <tr>\n",
       "      <th>1746</th>\n",
       "      <td>Samoyed</td>\n",
       "      <td>Pomeranian</td>\n",
       "      <td>Arctic fox</td>\n",
       "    </tr>\n",
       "    <tr>\n",
       "      <th>1825</th>\n",
       "      <td>Border collie</td>\n",
       "      <td>Collie</td>\n",
       "      <td>Cardigan</td>\n",
       "    </tr>\n",
       "    <tr>\n",
       "      <th>27</th>\n",
       "      <td>Chihuahua</td>\n",
       "      <td>Toy terrier</td>\n",
       "      <td>Papillon</td>\n",
       "    </tr>\n",
       "    <tr>\n",
       "      <th>2042</th>\n",
       "      <td>Pug</td>\n",
       "      <td>Labrador retriever</td>\n",
       "      <td>Kuvasz</td>\n",
       "    </tr>\n",
       "    <tr>\n",
       "      <th>1151</th>\n",
       "      <td>Tennis ball</td>\n",
       "      <td>Basset</td>\n",
       "      <td>Golden retriever</td>\n",
       "    </tr>\n",
       "    <tr>\n",
       "      <th>1462</th>\n",
       "      <td>Collie</td>\n",
       "      <td>Borzoi</td>\n",
       "      <td>Border collie</td>\n",
       "    </tr>\n",
       "    <tr>\n",
       "      <th>1860</th>\n",
       "      <td>French bulldog</td>\n",
       "      <td>Soccer ball</td>\n",
       "      <td>Bull mastiff</td>\n",
       "    </tr>\n",
       "    <tr>\n",
       "      <th>2036</th>\n",
       "      <td>Pembroke</td>\n",
       "      <td>Cardigan</td>\n",
       "      <td>Chihuahua</td>\n",
       "    </tr>\n",
       "    <tr>\n",
       "      <th>1340</th>\n",
       "      <td>Chesapeake bay retriever</td>\n",
       "      <td>Labrador retriever</td>\n",
       "      <td>Curly-coated retriever</td>\n",
       "    </tr>\n",
       "    <tr>\n",
       "      <th>207</th>\n",
       "      <td>Vizsla</td>\n",
       "      <td>Redbone</td>\n",
       "      <td>Rhodesian ridgeback</td>\n",
       "    </tr>\n",
       "  </tbody>\n",
       "</table>\n",
       "</div>"
      ],
      "text/plain": [
       "                            p1                  p2                      p3\n",
       "1746  Samoyed                   Pomeranian          Arctic fox            \n",
       "1825  Border collie             Collie              Cardigan              \n",
       "27    Chihuahua                 Toy terrier         Papillon              \n",
       "2042  Pug                       Labrador retriever  Kuvasz                \n",
       "1151  Tennis ball               Basset              Golden retriever      \n",
       "1462  Collie                    Borzoi              Border collie         \n",
       "1860  French bulldog            Soccer ball         Bull mastiff          \n",
       "2036  Pembroke                  Cardigan            Chihuahua             \n",
       "1340  Chesapeake bay retriever  Labrador retriever  Curly-coated retriever\n",
       "207   Vizsla                    Redbone             Rhodesian ridgeback   "
      ]
     },
     "execution_count": 43,
     "metadata": {},
     "output_type": "execute_result"
    }
   ],
   "source": [
    "img_predictions_clean[['p1','p2','p3']].sample(10)"
   ]
  },
  {
   "cell_type": "markdown",
   "metadata": {},
   "source": [
    "# TIDINESS ISSUES"
   ]
  },
  {
   "cell_type": "markdown",
   "metadata": {},
   "source": [
    "#### 1. tweets_data dataframe --- Remove extra columns which are no longer needed : in_reply_to_status_id, in_reply_to_user_id, retweeted_status_id , retweeted_status_user_id, retweeted_status_timestamp\t\n",
    "\n",
    "#### 2. tweets_data dataframe --- doggo, floofer, pupper, puppo should not be 4 columns but value of a single column, something like 'dog_stage'\n",
    "\n",
    "#### 3. No need for 3 separate datasets. All datasets can be merged into a single dataset."
   ]
  },
  {
   "cell_type": "markdown",
   "metadata": {},
   "source": [
    " "
   ]
  },
  {
   "cell_type": "markdown",
   "metadata": {},
   "source": [
    "## Issue 1"
   ]
  },
  {
   "cell_type": "markdown",
   "metadata": {},
   "source": [
    "#### Define : tweets_data dataframe --- Remove extra columns which are no longer needed : in_reply_to_status_id, in_reply_to_user_id, retweeted_status_id , retweeted_status_user_id, retweeted_status_timestamp\n",
    "\n",
    "#### Code : Using drop method to drop the required columns"
   ]
  },
  {
   "cell_type": "markdown",
   "metadata": {},
   "source": [
    "## Code"
   ]
  },
  {
   "cell_type": "code",
   "execution_count": 44,
   "metadata": {},
   "outputs": [],
   "source": [
    "tweets_data_clean.drop(['in_reply_to_status_id','in_reply_to_user_id','retweeted_status_id','retweeted_status_user_id',\n",
    "                        'retweeted_status_timestamp'], axis=1, inplace=True)"
   ]
  },
  {
   "cell_type": "markdown",
   "metadata": {},
   "source": [
    "## Test"
   ]
  },
  {
   "cell_type": "code",
   "execution_count": 45,
   "metadata": {},
   "outputs": [
    {
     "data": {
      "text/plain": [
       "Index(['tweet_id', 'timestamp', 'source', 'text', 'expanded_urls',\n",
       "       'rating_numerator', 'rating_denominator', 'name', 'doggo', 'floofer',\n",
       "       'pupper', 'puppo', 'combined_stages'],\n",
       "      dtype='object')"
      ]
     },
     "execution_count": 45,
     "metadata": {},
     "output_type": "execute_result"
    }
   ],
   "source": [
    "tweets_data_clean.columns"
   ]
  },
  {
   "cell_type": "markdown",
   "metadata": {},
   "source": [
    "## Issue 2"
   ]
  },
  {
   "cell_type": "markdown",
   "metadata": {},
   "source": [
    "#### Define : tweets_data dataframe --- doggo, floofer, pupper, puppo should not be 4 columns but value of a single column, something like 'dog_stage'"
   ]
  },
  {
   "cell_type": "markdown",
   "metadata": {},
   "source": [
    "#### Code : Drop 4 columns and rename combined_stages column to dog_stage"
   ]
  },
  {
   "cell_type": "markdown",
   "metadata": {},
   "source": [
    "### Code"
   ]
  },
  {
   "cell_type": "code",
   "execution_count": 46,
   "metadata": {},
   "outputs": [],
   "source": [
    "tweets_data_clean.drop(['doggo','floofer','pupper','puppo'], axis=1, inplace=True)"
   ]
  },
  {
   "cell_type": "code",
   "execution_count": 47,
   "metadata": {},
   "outputs": [
    {
     "data": {
      "text/html": [
       "<div>\n",
       "<style scoped>\n",
       "    .dataframe tbody tr th:only-of-type {\n",
       "        vertical-align: middle;\n",
       "    }\n",
       "\n",
       "    .dataframe tbody tr th {\n",
       "        vertical-align: top;\n",
       "    }\n",
       "\n",
       "    .dataframe thead th {\n",
       "        text-align: right;\n",
       "    }\n",
       "</style>\n",
       "<table border=\"1\" class=\"dataframe\">\n",
       "  <thead>\n",
       "    <tr style=\"text-align: right;\">\n",
       "      <th></th>\n",
       "      <th>tweet_id</th>\n",
       "      <th>timestamp</th>\n",
       "      <th>source</th>\n",
       "      <th>text</th>\n",
       "      <th>expanded_urls</th>\n",
       "      <th>rating_numerator</th>\n",
       "      <th>rating_denominator</th>\n",
       "      <th>name</th>\n",
       "      <th>combined_stages</th>\n",
       "    </tr>\n",
       "  </thead>\n",
       "  <tbody>\n",
       "    <tr>\n",
       "      <th>1951</th>\n",
       "      <td>673686845050527744</td>\n",
       "      <td>2015-12-07 02:13:55</td>\n",
       "      <td>Twitter for iPhone</td>\n",
       "      <td>This is George. He's upset that the 4th of July isn't everyday. 11/10 https://t.co/wImU0jdx3E</td>\n",
       "      <td>https://twitter.com/dog_rates/status/673686845050527744/photo/1</td>\n",
       "      <td>11</td>\n",
       "      <td>10</td>\n",
       "      <td>George</td>\n",
       "      <td>None</td>\n",
       "    </tr>\n",
       "    <tr>\n",
       "      <th>996</th>\n",
       "      <td>748337862848962560</td>\n",
       "      <td>2016-06-30 02:10:24</td>\n",
       "      <td>Vine - Make a Scene</td>\n",
       "      <td>SWIM AWAY PUPPER SWIM AWAY 13/10 #BarkWeek  https://t.co/QGGhZoTcwy</td>\n",
       "      <td>https://vine.co/v/h5aDaFthX6O</td>\n",
       "      <td>13</td>\n",
       "      <td>10</td>\n",
       "      <td>NaN</td>\n",
       "      <td>pupper</td>\n",
       "    </tr>\n",
       "    <tr>\n",
       "      <th>734</th>\n",
       "      <td>781251288990355457</td>\n",
       "      <td>2016-09-28 21:56:36</td>\n",
       "      <td>Twitter for iPhone</td>\n",
       "      <td>This is Oakley. He just got yelled at for going 46 in a 45. Churlish af. 11/10 would still pet so well https://t.co/xIYsa6LPA4</td>\n",
       "      <td>https://twitter.com/dog_rates/status/781251288990355457/photo/1,https://twitter.com/dog_rates/status/781251288990355457/photo/1</td>\n",
       "      <td>11</td>\n",
       "      <td>10</td>\n",
       "      <td>Oakley</td>\n",
       "      <td>None</td>\n",
       "    </tr>\n",
       "    <tr>\n",
       "      <th>419</th>\n",
       "      <td>822244816520155136</td>\n",
       "      <td>2017-01-20 00:50:15</td>\n",
       "      <td>Twitter for iPhone</td>\n",
       "      <td>We only rate dogs. Please don't send pics of men capturing low level clouds. Thank you... 11/10 https://t.co/rLi83ZyCL5</td>\n",
       "      <td>https://twitter.com/dog_rates/status/822244816520155136/photo/1</td>\n",
       "      <td>11</td>\n",
       "      <td>10</td>\n",
       "      <td>NaN</td>\n",
       "      <td>None</td>\n",
       "    </tr>\n",
       "    <tr>\n",
       "      <th>42</th>\n",
       "      <td>884247878851493888</td>\n",
       "      <td>2017-07-10 03:08:17</td>\n",
       "      <td>Twitter for iPhone</td>\n",
       "      <td>OMG HE DIDN'T MEAN TO HE WAS JUST TRYING A LITTLE BARKOUR HE'S SUPER SORRY 13/10 WOULD FORGIVE IMMEDIATE https://t.co/uF3pQ8Wubj</td>\n",
       "      <td>https://twitter.com/kaijohnson_19/status/883965650754039809</td>\n",
       "      <td>13</td>\n",
       "      <td>10</td>\n",
       "      <td>NaN</td>\n",
       "      <td>None</td>\n",
       "    </tr>\n",
       "    <tr>\n",
       "      <th>2294</th>\n",
       "      <td>667138269671505920</td>\n",
       "      <td>2015-11-19 00:32:12</td>\n",
       "      <td>Twitter for iPhone</td>\n",
       "      <td>Extremely intelligent dog here. Has learned to walk like human. Even has his own dog. Very impressive 10/10 https://t.co/0DvHAMdA4V</td>\n",
       "      <td>https://twitter.com/dog_rates/status/667138269671505920/photo/1</td>\n",
       "      <td>10</td>\n",
       "      <td>10</td>\n",
       "      <td>NaN</td>\n",
       "      <td>None</td>\n",
       "    </tr>\n",
       "    <tr>\n",
       "      <th>1312</th>\n",
       "      <td>707014260413456384</td>\n",
       "      <td>2016-03-08 01:25:10</td>\n",
       "      <td>Twitter for iPhone</td>\n",
       "      <td>This is Ellie. She requests to be carried around in a lacrosse stick at all times. 11/10 impossible to say no https://t.co/15yCmd43zU</td>\n",
       "      <td>https://twitter.com/dog_rates/status/707014260413456384/photo/1</td>\n",
       "      <td>11</td>\n",
       "      <td>10</td>\n",
       "      <td>Ellie</td>\n",
       "      <td>None</td>\n",
       "    </tr>\n",
       "    <tr>\n",
       "      <th>2190</th>\n",
       "      <td>668960084974809088</td>\n",
       "      <td>2015-11-24 01:11:27</td>\n",
       "      <td>Twitter for iPhone</td>\n",
       "      <td>Meet Jaycob. He got scared of the vacuum. Hide &amp;amp; seek champ. Almost better than Kony. Solid shampoo selection. 10/10 https://t.co/952hUV6RiK</td>\n",
       "      <td>https://twitter.com/dog_rates/status/668960084974809088/photo/1</td>\n",
       "      <td>10</td>\n",
       "      <td>10</td>\n",
       "      <td>Jaycob</td>\n",
       "      <td>None</td>\n",
       "    </tr>\n",
       "    <tr>\n",
       "      <th>810</th>\n",
       "      <td>771380798096281600</td>\n",
       "      <td>2016-09-01 16:14:48</td>\n",
       "      <td>Twitter for iPhone</td>\n",
       "      <td>Meet Fizz. She thinks love is a social construct consisting solely of ideals perpetuated by mass media 11/10 woke af https://t.co/sPB5JMnWBn</td>\n",
       "      <td>https://twitter.com/dog_rates/status/771380798096281600/photo/1,https://twitter.com/dog_rates/status/771380798096281600/photo/1,https://twitter.com/dog_rates/status/771380798096281600/photo/1,https://twitter.com/dog_rates/status/771380798096281600/photo/1</td>\n",
       "      <td>11</td>\n",
       "      <td>10</td>\n",
       "      <td>Fizz</td>\n",
       "      <td>None</td>\n",
       "    </tr>\n",
       "    <tr>\n",
       "      <th>1758</th>\n",
       "      <td>678755239630127104</td>\n",
       "      <td>2015-12-21 01:53:54</td>\n",
       "      <td>Twitter for iPhone</td>\n",
       "      <td>This is Dash. He didn't think the water would be that cold. Damn it Dash it's December. Think a little. 10/10 https://t.co/NqcOwG8pxW</td>\n",
       "      <td>https://twitter.com/dog_rates/status/678755239630127104/photo/1</td>\n",
       "      <td>10</td>\n",
       "      <td>10</td>\n",
       "      <td>Dash</td>\n",
       "      <td>None</td>\n",
       "    </tr>\n",
       "  </tbody>\n",
       "</table>\n",
       "</div>"
      ],
      "text/plain": [
       "                tweet_id           timestamp               source  \\\n",
       "1951  673686845050527744 2015-12-07 02:13:55  Twitter for iPhone    \n",
       "996   748337862848962560 2016-06-30 02:10:24  Vine - Make a Scene   \n",
       "734   781251288990355457 2016-09-28 21:56:36  Twitter for iPhone    \n",
       "419   822244816520155136 2017-01-20 00:50:15  Twitter for iPhone    \n",
       "42    884247878851493888 2017-07-10 03:08:17  Twitter for iPhone    \n",
       "2294  667138269671505920 2015-11-19 00:32:12  Twitter for iPhone    \n",
       "1312  707014260413456384 2016-03-08 01:25:10  Twitter for iPhone    \n",
       "2190  668960084974809088 2015-11-24 01:11:27  Twitter for iPhone    \n",
       "810   771380798096281600 2016-09-01 16:14:48  Twitter for iPhone    \n",
       "1758  678755239630127104 2015-12-21 01:53:54  Twitter for iPhone    \n",
       "\n",
       "                                                                                                                                                  text  \\\n",
       "1951  This is George. He's upset that the 4th of July isn't everyday. 11/10 https://t.co/wImU0jdx3E                                                      \n",
       "996   SWIM AWAY PUPPER SWIM AWAY 13/10 #BarkWeek  https://t.co/QGGhZoTcwy                                                                                \n",
       "734   This is Oakley. He just got yelled at for going 46 in a 45. Churlish af. 11/10 would still pet so well https://t.co/xIYsa6LPA4                     \n",
       "419   We only rate dogs. Please don't send pics of men capturing low level clouds. Thank you... 11/10 https://t.co/rLi83ZyCL5                            \n",
       "42    OMG HE DIDN'T MEAN TO HE WAS JUST TRYING A LITTLE BARKOUR HE'S SUPER SORRY 13/10 WOULD FORGIVE IMMEDIATE https://t.co/uF3pQ8Wubj                   \n",
       "2294  Extremely intelligent dog here. Has learned to walk like human. Even has his own dog. Very impressive 10/10 https://t.co/0DvHAMdA4V                \n",
       "1312  This is Ellie. She requests to be carried around in a lacrosse stick at all times. 11/10 impossible to say no https://t.co/15yCmd43zU              \n",
       "2190  Meet Jaycob. He got scared of the vacuum. Hide &amp; seek champ. Almost better than Kony. Solid shampoo selection. 10/10 https://t.co/952hUV6RiK   \n",
       "810   Meet Fizz. She thinks love is a social construct consisting solely of ideals perpetuated by mass media 11/10 woke af https://t.co/sPB5JMnWBn       \n",
       "1758  This is Dash. He didn't think the water would be that cold. Damn it Dash it's December. Think a little. 10/10 https://t.co/NqcOwG8pxW              \n",
       "\n",
       "                                                                                                                                                                                                                                                        expanded_urls  \\\n",
       "1951  https://twitter.com/dog_rates/status/673686845050527744/photo/1                                                                                                                                                                                                   \n",
       "996   https://vine.co/v/h5aDaFthX6O                                                                                                                                                                                                                                     \n",
       "734   https://twitter.com/dog_rates/status/781251288990355457/photo/1,https://twitter.com/dog_rates/status/781251288990355457/photo/1                                                                                                                                   \n",
       "419   https://twitter.com/dog_rates/status/822244816520155136/photo/1                                                                                                                                                                                                   \n",
       "42    https://twitter.com/kaijohnson_19/status/883965650754039809                                                                                                                                                                                                       \n",
       "2294  https://twitter.com/dog_rates/status/667138269671505920/photo/1                                                                                                                                                                                                   \n",
       "1312  https://twitter.com/dog_rates/status/707014260413456384/photo/1                                                                                                                                                                                                   \n",
       "2190  https://twitter.com/dog_rates/status/668960084974809088/photo/1                                                                                                                                                                                                   \n",
       "810   https://twitter.com/dog_rates/status/771380798096281600/photo/1,https://twitter.com/dog_rates/status/771380798096281600/photo/1,https://twitter.com/dog_rates/status/771380798096281600/photo/1,https://twitter.com/dog_rates/status/771380798096281600/photo/1   \n",
       "1758  https://twitter.com/dog_rates/status/678755239630127104/photo/1                                                                                                                                                                                                   \n",
       "\n",
       "      rating_numerator  rating_denominator    name combined_stages  \n",
       "1951  11                10                  George  None            \n",
       "996   13                10                  NaN     pupper          \n",
       "734   11                10                  Oakley  None            \n",
       "419   11                10                  NaN     None            \n",
       "42    13                10                  NaN     None            \n",
       "2294  10                10                  NaN     None            \n",
       "1312  11                10                  Ellie   None            \n",
       "2190  10                10                  Jaycob  None            \n",
       "810   11                10                  Fizz    None            \n",
       "1758  10                10                  Dash    None            "
      ]
     },
     "execution_count": 47,
     "metadata": {},
     "output_type": "execute_result"
    }
   ],
   "source": [
    "tweets_data_clean.sample(10)"
   ]
  },
  {
   "cell_type": "code",
   "execution_count": 48,
   "metadata": {},
   "outputs": [],
   "source": [
    "tweets_data_clean.rename(columns = {'combined_stages' : 'dog_stage'}, inplace=True)"
   ]
  },
  {
   "cell_type": "markdown",
   "metadata": {},
   "source": [
    "### Test"
   ]
  },
  {
   "cell_type": "code",
   "execution_count": 49,
   "metadata": {},
   "outputs": [
    {
     "name": "stdout",
     "output_type": "stream",
     "text": [
      "<class 'pandas.core.frame.DataFrame'>\n",
      "Int64Index: 1792 entries, 1 to 2355\n",
      "Data columns (total 9 columns):\n",
      "tweet_id              1792 non-null int64\n",
      "timestamp             1792 non-null datetime64[ns]\n",
      "source                1792 non-null object\n",
      "text                  1792 non-null object\n",
      "expanded_urls         1789 non-null object\n",
      "rating_numerator      1792 non-null int64\n",
      "rating_denominator    1792 non-null int64\n",
      "name                  1255 non-null object\n",
      "dog_stage             1792 non-null object\n",
      "dtypes: datetime64[ns](1), int64(3), object(5)\n",
      "memory usage: 140.0+ KB\n"
     ]
    }
   ],
   "source": [
    "tweets_data_clean.info()"
   ]
  },
  {
   "cell_type": "code",
   "execution_count": 50,
   "metadata": {},
   "outputs": [
    {
     "name": "stdout",
     "output_type": "stream",
     "text": [
      "(1751, 12)\n",
      "(1792, 9)\n",
      "(2031, 3)\n"
     ]
    }
   ],
   "source": [
    "print(img_predictions_clean.shape)\n",
    "print(tweets_data_clean.shape)\n",
    "print(tweets_json_clean.shape)"
   ]
  },
  {
   "cell_type": "markdown",
   "metadata": {},
   "source": [
    "## Joining the dataframes together"
   ]
  },
  {
   "cell_type": "code",
   "execution_count": 51,
   "metadata": {},
   "outputs": [
    {
     "data": {
      "text/plain": [
       "126"
      ]
     },
     "execution_count": 51,
     "metadata": {},
     "output_type": "execute_result"
    }
   ],
   "source": [
    "# Merge tables tweets and img info\n",
    "tweets_data_clean = pd.merge(tweets_data_clean, img_predictions_clean,\n",
    "                            on = ['tweet_id'], how = 'left')\n",
    "\n",
    "# number of null values before cleaning\n",
    "tweets_data_clean.jpg_url.isnull().sum()"
   ]
  },
  {
   "cell_type": "code",
   "execution_count": 52,
   "metadata": {},
   "outputs": [],
   "source": [
    "# Removing tweets where there is no pictures\n",
    "\n",
    "tweets_data_clean = (tweets_data_clean[tweets_data_clean.jpg_url.notnull()])\n"
   ]
  },
  {
   "cell_type": "code",
   "execution_count": 53,
   "metadata": {},
   "outputs": [],
   "source": [
    "# Joining tweets archive and json data which contains retweets and favorites\n",
    "\n",
    "tweets_data_clean = pd.merge(tweets_data_clean, tweets_json_clean,\n",
    "                            on = ['tweet_id'], how = 'left')"
   ]
  },
  {
   "cell_type": "code",
   "execution_count": 54,
   "metadata": {},
   "outputs": [
    {
     "name": "stdout",
     "output_type": "stream",
     "text": [
      "<class 'pandas.core.frame.DataFrame'>\n",
      "Int64Index: 1666 entries, 0 to 1665\n",
      "Data columns (total 22 columns):\n",
      "tweet_id              1666 non-null int64\n",
      "timestamp             1666 non-null datetime64[ns]\n",
      "source                1666 non-null object\n",
      "text                  1666 non-null object\n",
      "expanded_urls         1666 non-null object\n",
      "rating_numerator      1666 non-null int64\n",
      "rating_denominator    1666 non-null int64\n",
      "name                  1209 non-null object\n",
      "dog_stage             1666 non-null object\n",
      "jpg_url               1666 non-null object\n",
      "img_num               1666 non-null float64\n",
      "p1                    1666 non-null object\n",
      "p1_conf               1666 non-null float64\n",
      "p1_dog                1666 non-null object\n",
      "p2                    1666 non-null object\n",
      "p2_conf               1666 non-null float64\n",
      "p2_dog                1666 non-null object\n",
      "p3                    1666 non-null object\n",
      "p3_conf               1666 non-null float64\n",
      "p3_dog                1666 non-null object\n",
      "retweet_count         1666 non-null int64\n",
      "favorite_count        1666 non-null int64\n",
      "dtypes: datetime64[ns](1), float64(4), int64(5), object(12)\n",
      "memory usage: 299.4+ KB\n"
     ]
    }
   ],
   "source": [
    "tweets_data_clean.info()"
   ]
  },
  {
   "cell_type": "markdown",
   "metadata": {},
   "source": [
    "## Storing Data\n",
    "Save gathered, assessed, and cleaned master dataset to a CSV file named \"twitter_archive_master.csv\"."
   ]
  },
  {
   "cell_type": "code",
   "execution_count": 55,
   "metadata": {},
   "outputs": [],
   "source": [
    "tweets_data_clean.to_csv(\"twitter_archive_master.csv\")"
   ]
  },
  {
   "cell_type": "markdown",
   "metadata": {},
   "source": [
    "## Analyzing and Visualizing Data\n",
    "In this section, analyze and visualize your wrangled data. You must produce at least **three (3) insights and one (1) visualization.**"
   ]
  },
  {
   "cell_type": "markdown",
   "metadata": {},
   "source": [
    "### Insights:\n",
    "1. Most Used Tweet source\n",
    "\n",
    "2. Most Common dog names\n",
    "\n",
    "3. Most Common Dog breed based on number of tweets\n"
   ]
  },
  {
   "cell_type": "markdown",
   "metadata": {},
   "source": [
    "#### 1. Most Used Tweet source"
   ]
  },
  {
   "cell_type": "code",
   "execution_count": 56,
   "metadata": {},
   "outputs": [
    {
     "data": {
      "text/plain": [
       "Twitter for iPhone    1635\n",
       "Twitter Web Client    22  \n",
       "TweetDeck             9   \n",
       "Name: source, dtype: int64"
      ]
     },
     "execution_count": 56,
     "metadata": {},
     "output_type": "execute_result"
    }
   ],
   "source": [
    "# Analyse\n",
    "\n",
    "source = tweets_data_clean.source.value_counts()\n",
    "source"
   ]
  },
  {
   "cell_type": "code",
   "execution_count": 57,
   "metadata": {},
   "outputs": [
    {
     "data": {
      "text/plain": [
       "(array([0, 1, 2]), <a list of 3 Text xticklabel objects>)"
      ]
     },
     "execution_count": 57,
     "metadata": {},
     "output_type": "execute_result"
    },
    {
     "data": {
      "image/png": "[encoded data removed]",
      "text/plain": [
       "<matplotlib.figure.Figure at 0x7f41f7a74470>"
      ]
     },
     "metadata": {
      "needs_background": "light"
     },
     "output_type": "display_data"
    }
   ],
   "source": [
    "# Visualize\n",
    "\n",
    "import matplotlib.pyplot as plt\n",
    "%matplotlib inline\n",
    "\n",
    "#plot\n",
    "bar_graph = source.plot.bar(color = 'purple', fontsize = 13)\n",
    "\n",
    "#figure size(width, height)\n",
    "bar_graph.figure.set_size_inches(10, 5);\n",
    "\n",
    "# Other attributes of chart\n",
    "plt.title('Most used Tweet source', color = 'black', fontsize = '15',weight='bold')\n",
    "plt.xlabel('Source', color = 'black', fontsize = '13', weight='bold')\n",
    "plt.ylabel('No. of Tweets', color = 'black', fontsize = '13', weight='bold')\n",
    "plt.xticks(rotation=0)"
   ]
  },
  {
   "cell_type": "markdown",
   "metadata": {},
   "source": [
    "### We can clearly see that the tweets are posted using three devices or applications i.e. Twitter for iPhone, Twitter web Client and TweetDeck. More than 1600+ tweets are posted via Twitter for iPhone."
   ]
  },
  {
   "cell_type": "markdown",
   "metadata": {},
   "source": [
    "#### 2. Most Common dog names"
   ]
  },
  {
   "cell_type": "code",
   "execution_count": 58,
   "metadata": {},
   "outputs": [
    {
     "data": {
      "text/plain": [
       "Charlie    10\n",
       "Cooper     10\n",
       "Lucy       10\n",
       "Oliver     9 \n",
       "Tucker     9 \n",
       "Penny      8 \n",
       "Sadie      7 \n",
       "Daisy      7 \n",
       "Winston    7 \n",
       "Koda       6 \n",
       "Name: name, dtype: int64"
      ]
     },
     "execution_count": 58,
     "metadata": {},
     "output_type": "execute_result"
    }
   ],
   "source": [
    "# Analyze\n",
    "\n",
    "name = tweets_data_clean.name.value_counts()[0:10]\n",
    "name"
   ]
  },
  {
   "cell_type": "code",
   "execution_count": 59,
   "metadata": {},
   "outputs": [
    {
     "data": {
      "image/png": "[encoded data removed]",
      "text/plain": [
       "<matplotlib.figure.Figure at 0x7f41f76b3b38>"
      ]
     },
     "metadata": {
      "needs_background": "light"
     },
     "output_type": "display_data"
    }
   ],
   "source": [
    "# Visualize\n",
    "\n",
    "\n",
    "#plot\n",
    "bar_chart = name.plot.bar(color = 'blue', fontsize = 13)\n",
    "\n",
    "#width, height\n",
    "bar_chart.figure.set_size_inches(10, 7);\n",
    "\n",
    "#Add labels\n",
    "plt.title('Most popular Dog name', color = 'black', fontsize = '13')\n",
    "plt.xlabel('Name', color = 'black', fontsize = '13')\n",
    "plt.ylabel('Number of occurrence', color = 'black', fontsize = '13');"
   ]
  },
  {
   "cell_type": "markdown",
   "metadata": {},
   "source": [
    "### The chart shows the top 10 dog names that were part of the tweets at DogRates twitter handle. Cooper, Lucy and Charlie are the most common dog names."
   ]
  },
  {
   "cell_type": "markdown",
   "metadata": {},
   "source": [
    "#### 3. Most Common Dog breed based on number of tweets"
   ]
  },
  {
   "cell_type": "code",
   "execution_count": 60,
   "metadata": {},
   "outputs": [
    {
     "data": {
      "text/plain": [
       "Golden retriever      137\n",
       "Labrador retriever    94 \n",
       "Pembroke              88 \n",
       "Chihuahua             78 \n",
       "Pug                   54 \n",
       "Chow                  41 \n",
       "Samoyed               40 \n",
       "Pomeranian            38 \n",
       "Toy poodle            37 \n",
       "Malamute              29 \n",
       "Name: p1, dtype: int64"
      ]
     },
     "execution_count": 60,
     "metadata": {},
     "output_type": "execute_result"
    }
   ],
   "source": [
    "# Analysis\n",
    "\n",
    "tweets_data_clean.p1.value_counts()[0:10]"
   ]
  },
  {
   "cell_type": "code",
   "execution_count": 61,
   "metadata": {},
   "outputs": [
    {
     "data": {
      "image/png": "[encoded data removed]",
      "text/plain": [
       "<matplotlib.figure.Figure at 0x7f41edda3ef0>"
      ]
     },
     "metadata": {
      "needs_background": "light"
     },
     "output_type": "display_data"
    }
   ],
   "source": [
    "# Visualization\n",
    "\n",
    "# Plot bar chart for top 10 popular breeds based on number of tweets\n",
    "tweets_data_clean.p1.value_counts()[10::-1].plot(kind='barh', \n",
    "        color='green', title = 'Top 10 Popular Dog Dreeds Based on no. of Tweets').figure.set_size_inches(10, 7);\n",
    "\n",
    "plt.xlabel('Count')\n",
    "plt.ylabel('Breed');"
   ]
  },
  {
   "cell_type": "markdown",
   "metadata": {},
   "source": [
    "### Majority of the tweets were about Golden Retrievers which makes it the most popular dog on DogRates, followed by Labrador Retriever and Pembroke."
   ]
  },
  {
   "cell_type": "markdown",
   "metadata": {
    "collapsed": true
   },
   "source": [
    "### Visualization"
   ]
  },
  {
   "cell_type": "markdown",
   "metadata": {},
   "source": [
    "#### 1. A pie chart that demonstrates distribution of dog stages"
   ]
  },
  {
   "cell_type": "code",
   "execution_count": 62,
   "metadata": {},
   "outputs": [
    {
     "data": {
      "image/png": "[encoded data removed]",
      "text/plain": [
       "<matplotlib.figure.Figure at 0x7f41edd63908>"
      ]
     },
     "metadata": {},
     "output_type": "display_data"
    }
   ],
   "source": [
    "# Plot pie chart\n",
    "labels = ['None', 'pupper', 'doggo', 'puppo', 'floofer']\n",
    "values = tweets_data_clean.dog_stage.value_counts(normalize=True)\n",
    "colors = ['g', 'r', 'c' ,'m', 'y']\n",
    "explode = (0.1, 0, 0, 0, 0)\n",
    "\n",
    "plt.pie(values, colors=colors, explode=explode, autopct='%1.1f%%', radius = 1.2, shadow=True, counterclock=False)\n",
    "plt.legend(labels, loc=0)\n",
    "plt.title('Dog Stages')\n",
    "plt.tight_layout()\n"
   ]
  },
  {
   "cell_type": "markdown",
   "metadata": {},
   "source": [
    "### For 85% of the dogs, we didn't had the dog stage in the tweet information. Out of the remaining 15% dogs, most of the dogs were in pupper stage (10%), followed by duggo (3.2%), puppo (~1% )and floofer (<1%)."
   ]
  }
 ],
 "metadata": {
  "extensions": {
   "jupyter_dashboards": {
    "activeView": "report_default",
    "version": 1,
    "views": {
     "grid_default": {
      "cellMargin": 10,
      "defaultCellHeight": 20,
      "maxColumns": 12,
      "name": "grid",
      "type": "grid"
     },
     "report_default": {
      "name": "report",
      "type": "report"
     }
    }
   }
  },
  "kernelspec": {
   "display_name": "Python 3",
   "language": "python",
   "name": "python3"
  },
  "language_info": {
   "codemirror_mode": {
    "name": "ipython",
    "version": 3
   },
   "file_extension": ".py",
   "mimetype": "text/x-python",
   "name": "python",
   "nbconvert_exporter": "python",
   "pygments_lexer": "ipython3",
   "version": "3.6.3"
  }
 },
 "nbformat": 4,
 "nbformat_minor": 2
}
